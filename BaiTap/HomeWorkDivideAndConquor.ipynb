{
  "nbformat": 4,
  "nbformat_minor": 0,
  "metadata": {
    "colab": {
      "name": "HomeWorkDivideAndConquor.ipynb",
      "provenance": []
    },
    "kernelspec": {
      "name": "python3",
      "display_name": "Python 3"
    },
    "language_info": {
      "name": "python"
    }
  },
  "cells": [
    {
      "cell_type": "markdown",
      "metadata": {
        "id": "ADbU_uyDGWNJ"
      },
      "source": [
        "1. Viết chương trình tìm vị trí phần tử lớn nhất trong mảng sử dụng thuật toán greedy algorithm:"
      ]
    },
    {
      "cell_type": "code",
      "metadata": {
        "colab": {
          "base_uri": "https://localhost:8080/"
        },
        "id": "uTC7OujHDdwj",
        "outputId": "159e055a-a239-4d5f-e595-21e43067c967"
      },
      "source": [
        "def findingMax(arr, l, r):\n",
        "    if l==r: \n",
        "        return l\n",
        "    m=int ((r+l)/2)\n",
        "    max1=findingMax(arr,l,m)\n",
        "    max2=findingMax(arr,m+1,r)\n",
        "    if arr[max1]>=arr[max2]:\n",
        "        return max1\n",
        "    else: return max2\n",
        "    \n",
        "    \n",
        "a=[5 ,6, 8, 6, 9, 15, 8, 4, 7]\n",
        "n=len(a)\n",
        "print('Vi tri cua gia tri lon nhat la:',findingMax(a,0,n-1)+1)"
      ],
      "execution_count": 1,
      "outputs": [
        {
          "output_type": "stream",
          "text": [
            "Vi tri cua gia tri lon nhat la: 6\n"
          ],
          "name": "stdout"
        }
      ]
    },
    {
      "cell_type": "markdown",
      "metadata": {
        "id": "OmscJEZSGZZ2"
      },
      "source": [
        "2. Giải Recurrence Relation:\n",
        "\n",
        ">Ta có:\n",
        "*   Kích thước tệp tin: 6\n",
        "*   Số lượng bài toán con: 2\n",
        "*   Số lượng bài toán con cần giải quyết: 2\n",
        "\n",
        "=> T(n)=2T(n/2) + O(n)\n"
      ]
    },
    {
      "cell_type": "markdown",
      "metadata": {
        "id": "Em1858HkHh7W"
      },
      "source": [
        "3. So sánh với Brute Force:\n",
        "\n",
        "Ưu điểm:\n",
        "* Nếu có thể giải quyết được thì sẽ tối ưu hơn\n",
        "\n",
        "Nhược điểm\n",
        "* Tốn thời gian\n",
        "* Tốn không gian bộ nhớ"
      ]
    }
  ]
}
