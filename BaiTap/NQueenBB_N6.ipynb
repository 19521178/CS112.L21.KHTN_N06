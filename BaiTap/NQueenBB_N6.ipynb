{
  "nbformat": 4,
  "nbformat_minor": 0,
  "metadata": {
    "colab": {
      "name": "NQueenBB-N6.ipynb",
      "provenance": []
    },
    "kernelspec": {
      "name": "python3",
      "display_name": "Python 3"
    },
    "language_info": {
      "name": "python"
    }
  },
  "cells": [
    {
      "cell_type": "code",
      "metadata": {
        "colab": {
          "base_uri": "https://localhost:8080/"
        },
        "id": "Vt8da7BydFSE",
        "outputId": "1dbb434e-6668-4ded-b056-0d86e5404a98"
      },
      "source": [
        "N = int(input())\n"
      ],
      "execution_count": 1,
      "outputs": [
        {
          "output_type": "stream",
          "text": [
            "8\n"
          ],
          "name": "stdout"
        }
      ]
    },
    {
      "cell_type": "code",
      "metadata": {
        "id": "R2zDoXStdTRA"
      },
      "source": [
        "def printRes(board):\n",
        "    for i in range(N):\n",
        "        for j in range(N):\n",
        "            print(board[i][j], end = ' ')\n",
        "        print()"
      ],
      "execution_count": 2,
      "outputs": []
    },
    {
      "cell_type": "code",
      "metadata": {
        "id": "zNfKaUN6eKVS"
      },
      "source": [
        "def check(row, col, slash, backslash, rowLookup, slashLookup, backslashLookup):\n",
        "    if (slashLookup[slash[row][col]] or\n",
        "        backslashLookup[backslash[row][col]] or\n",
        "        rowLookup[row]):\n",
        "        return False\n",
        "    return True\n",
        "    "
      ],
      "execution_count": 3,
      "outputs": []
    },
    {
      "cell_type": "code",
      "metadata": {
        "id": "1G2CLjCthnHC"
      },
      "source": [
        "def solveUtil(board, col, slash, backslash, rowLookup, slashLookup, backslashLookup):\n",
        "    if (col >= N):\n",
        "        return True\n",
        "    for i in range(N):\n",
        "        if (check(i, col, slash, backslash, rowLookup, slashLookup, backslashLookup)):\n",
        "            board[i][col] = 1\n",
        "            rowLookup[i] = True\n",
        "            slashLookup[slash[i][col]] = True\n",
        "            backslashLookup[backslash[i][col]] = True\n",
        "\n",
        "            if (solveUtil(board, col+1, slash, backslash, rowLookup,\n",
        "                          slashLookup, backslashLookup)):\n",
        "                return True\n",
        "            \n",
        "            board[i][col] = 0\n",
        "            rowLookup[i] = False\n",
        "            slashLookup[slash[i][col]] = False\n",
        "            backslashLookup[backslash[i][col]] = False\n",
        "    return False\n"
      ],
      "execution_count": 4,
      "outputs": []
    },
    {
      "cell_type": "code",
      "metadata": {
        "id": "faOD8O3Xja4r"
      },
      "source": [
        "def solve():\n",
        "    board = [[0 for i in range(N)] for j in range(N)]\n",
        "    slash = [[0 for i in range(N)] for j in range(N)]\n",
        "    backslash = [[0 for i in range(N)] for j in range(N)]\n",
        "    rowLookup = [False] * N\n",
        "    x = 2 * N - 1\n",
        "    slashLookup = [False] * x\n",
        "    backslashLookup = [False] * x\n",
        "\n",
        "    for row in range(N):\n",
        "        for col in range(N):\n",
        "            slash[row][col] = row + col\n",
        "            backslash[row][col] = row - col + (N-1)\n",
        "\n",
        "    if (solveUtil(board, 0, slash, backslash, rowLookup, slashLookup, backslashLookup) == False):\n",
        "        print('-1')\n",
        "        return False\n",
        "    printRes(board)\n",
        "    return True\n"
      ],
      "execution_count": 5,
      "outputs": []
    },
    {
      "cell_type": "code",
      "metadata": {
        "colab": {
          "base_uri": "https://localhost:8080/"
        },
        "id": "ant3fOMUkzbS",
        "outputId": "95e5bcc2-8be2-4563-c175-66677ef42c37"
      },
      "source": [
        "solve()"
      ],
      "execution_count": 6,
      "outputs": [
        {
          "output_type": "stream",
          "text": [
            "1 0 0 0 0 0 0 0 \n",
            "0 0 0 0 0 0 1 0 \n",
            "0 0 0 0 1 0 0 0 \n",
            "0 0 0 0 0 0 0 1 \n",
            "0 1 0 0 0 0 0 0 \n",
            "0 0 0 1 0 0 0 0 \n",
            "0 0 0 0 0 1 0 0 \n",
            "0 0 1 0 0 0 0 0 \n"
          ],
          "name": "stdout"
        },
        {
          "output_type": "execute_result",
          "data": {
            "text/plain": [
              "True"
            ]
          },
          "metadata": {
            "tags": []
          },
          "execution_count": 6
        }
      ]
    }
  ]
}