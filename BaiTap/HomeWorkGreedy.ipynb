{
  "nbformat": 4,
  "nbformat_minor": 0,
  "metadata": {
    "colab": {
      "name": "HomeWorkGreedy.ipynb",
      "provenance": []
    },
    "kernelspec": {
      "name": "python3",
      "display_name": "Python 3"
    },
    "language_info": {
      "name": "python"
    }
  },
  "cells": [
    {
      "cell_type": "markdown",
      "metadata": {
        "id": "JsC4s03VIWqJ"
      },
      "source": [
        "# 1. Prove that Prim's Minimum Spanning Tree Algorithm has features of Greedy Algorithm.\n",
        "\n",
        "Properties of Greedy Algorithms:\n",
        "\n",
        "Problems that can be solved by greedy algorithms have two main properties:\n",
        "*\t Optimal Substructure: the optimal solution to a problem incorporates the op\u0002timal solution to subproblem(s)\n",
        "*\t Greedy choice property: locally optimal choices lead to a globally optimal so\u0002lution\n",
        "\n",
        "We can see how these properties can be applied to the MST problem:\n",
        "> **Optimal substructure for MST:**\n",
        "\n",
        "Consider an edge e = {u, v}, which is an edge of some MST. Then we can contract e\n",
        "by merging the vertices u and v to create a new vertex. Then any edge adjacent to\n",
        "vertex u or v is adjacent to the newly created vertex, and the process could result in\n",
        "a multiedge if u and v have a mutual neighbor. We resolve the multiedge problem by\n",
        "creating a single edge with the minimum weight between the two edges.\n",
        "This leads us to the following lemma:\n",
        "* Lemma 1. If T' is a minimum spanning tree of G/e, then T' ∪ {e} is an MST of G.\n",
        "Proof. Let T∗ be an MST of G containing the edge e. Then T∗/e is a spanning tree\n",
        "of G' = G/{e}. By definition, T' is an MST of G'\n",
        ". Thus the total weight of T' is less\n",
        "than or equal to that of T∗/e, or w(T'\n",
        ") ≤ w(T∗/e). Then\n",
        "w(T) = w(T'\n",
        ") + w(e) ≤ w(T∗\n",
        "/e) + w(e) = w(T'\n",
        ")\n",
        ".\n",
        "\n",
        "The statement can be used as the basis for a dynamic programming algorithm, in\n",
        "which we guess an edge that belongs to the MST, retract the edge, and recurse. At\n",
        "the end, we decontract the edge and add e to the MST.\n",
        "\n",
        "The lemma guarantees that this algorithm is correct. However, this algorithm is\n",
        "requires exponential time, because there are an exponential number of edges that we\n",
        "can guess to form our MST.\n",
        "\n",
        "We make the algorithm polynomial time by removing the guessing process.\n",
        "\n",
        ">**Greedy Choice Property**\n",
        "\n",
        "The MST problem can be solved by a greedy algorithm because the the locally optimal\n",
        "solution is also the globally optimal solution. This fact is described by the Greedy\u0002Choice Property for MSTs, and its proof of correctness is given via a “cut and paste”\n",
        "argument common for greedy proofs.\n",
        "Lemma 2 (Greedy-Choice Property for MST). For any cut (S, V \\ S) in a graph\n",
        "G = (V, E,w), any least-weight crossing edge e = {u, v} with u ∈ S and v /∈ S is in\n",
        "some MST of G.\n",
        "\n",
        "Proof: First, consider an MST T of G. Then T has a path from u to v. Because\n",
        "u ∈ S and v /∈ S, the path has some edge e' = {u'\n",
        ", v'\n",
        "} which also crosses the cut.\n",
        "Then T' = T \\ {e'\n",
        "}∪{e} is a spanning tree of G and w(T'\n",
        ") = w(T) − w(e'\n",
        ") + w(e),\n",
        "but e is a least-weight edge crossing (S, V \\ S). Thus w(e) ≤ w(e'\n",
        "), so w(T'\n",
        ") ≤ w(T).\n",
        "Therefore T' is an MST too.\n",
        "\n",
        "\n"
      ]
    },
    {
      "cell_type": "markdown",
      "metadata": {
        "id": "jCIj70YUGt7e"
      },
      "source": [
        "Source: https://ocw.mit.edu/courses/electrical-engineering-and-computer-science/6-046j-design-and-analysis-of-algorithms-spring-2015/lecture-notes/MIT6_046JS15_lec12.pdf"
      ]
    },
    {
      "cell_type": "markdown",
      "metadata": {
        "id": "Sy-Nugi_MCv0"
      },
      "source": [
        "#2. Prove that Greedy algorithm applied on Activities Selection will bring the best result\n",
        "\n",
        "Suppose, we have adjusted some activities in the given time slot and claiming that this solution is the optimal solution and the element first to be finished is not in this solution.\n",
        "![activity3.png](data:image/png;base64,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)\n",
        "\n",
        "Now we can replace the first activity in the slot with the element with first finish time without any consequences. As we are only concerned with the number of activities and by replacing the activity, the number of activities will be the same.\n",
        "\n",
        "![activity4.png](data:image/png;base64,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)\n",
        "\n",
        "This is even going to give us some free time in the slot which can be used to further optimize the problem. So, we need the element of least finish time in our optimal solution and thus we just theoretically verified that making a greedy choice will lead us to the optimal solution.\n"
      ]
    },
    {
      "cell_type": "markdown",
      "metadata": {
        "id": "T2ptNV84Gzf6"
      },
      "source": [
        "Source: https://www.codesdope.com/course/algorithms-activity-selection/"
      ]
    }
  ]
}
