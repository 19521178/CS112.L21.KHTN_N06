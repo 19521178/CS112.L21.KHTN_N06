{
  "nbformat": 4,
  "nbformat_minor": 0,
  "metadata": {
    "colab": {
      "name": "N6.ipynb",
      "provenance": []
    },
    "kernelspec": {
      "name": "python3",
      "display_name": "Python 3"
    },
    "language_info": {
      "name": "python"
    }
  },
  "cells": [
    {
      "cell_type": "markdown",
      "metadata": {
        "id": "7vXAcJzhUFNW"
      },
      "source": [
        "#1. Abstraction"
      ]
    },
    {
      "cell_type": "markdown",
      "metadata": {
        "id": "KwozEAtyUTyN"
      },
      "source": [
        "Cho một mảng số nguyên dương, chọn tổ hợp 3 số có tổng lớn nhất, ưu tiên số lớn nhất lớn hơn, nếu không tồn tại tổ hợp đó, xuất -1."
      ]
    },
    {
      "cell_type": "markdown",
      "metadata": {
        "id": "mdOwBg5oU05Z"
      },
      "source": [
        "#2. Pattern Recognition"
      ]
    },
    {
      "cell_type": "markdown",
      "metadata": {
        "id": "PsvpGlViVDcN"
      },
      "source": [
        "* Dạng toán: thuật toán tham lam.\n",
        "* Đặc điểm nhận dạng:\n",
        "    * Chọn 3 số có tổng lớn nhất, đối với mỗi số (a), nếu hai số lớn nhất nhỏ hơn nó (b, c) không thỏa điều kiện (a < b + c) thì không tồn tại cặp (b, c) nào nhỏ hơn a mà thỏa điều kiện."
      ]
    },
    {
      "cell_type": "markdown",
      "metadata": {
        "id": "QLggLSY9X95A"
      },
      "source": [
        "#3. Algorithm Design"
      ]
    },
    {
      "cell_type": "markdown",
      "metadata": {
        "id": "BTPt9klKYC8d"
      },
      "source": [
        "* Sắp xếp mảng.\n",
        "* Cho a chạy từ phần tử 0 đến n-2 của mảng:\n",
        "    * Nếu tổng 2 phần từ đứng ngay sau a lớn hơn giá trị của a thì return 3 số này.\n",
        "* Nếu không có bộ 3 số nào thỏa, return -1."
      ]
    },
    {
      "cell_type": "code",
      "metadata": {
        "colab": {
          "base_uri": "https://localhost:8080/"
        },
        "id": "DEKZD8TWNTcW",
        "outputId": "defc4406-048e-4f7c-fde8-1147fe8e1b8a"
      },
      "source": [
        "n = int(input())\n",
        "arr = [int(x) for x in input().split()]\n",
        "def MaxC(n, arr):\n",
        "    arr_tmp = sorted(arr, reverse = True)\n",
        "    for i in range(n-2):\n",
        "        if (arr_tmp[i]<arr_tmp[i+1] + arr_tmp[i+2]):\n",
        "            return [arr_tmp[i+2], arr_tmp[i+1], arr_tmp[i]]\n",
        "    return -1\n",
        "print(MaxC(n, arr))"
      ],
      "execution_count": 9,
      "outputs": [
        {
          "output_type": "stream",
          "text": [
            "3\n",
            "1 2 3\n",
            "-1\n"
          ],
          "name": "stdout"
        }
      ]
    }
  ]
}