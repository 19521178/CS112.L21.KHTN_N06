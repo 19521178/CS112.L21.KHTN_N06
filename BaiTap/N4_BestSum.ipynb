{
  "nbformat": 4,
  "nbformat_minor": 0,
  "metadata": {
    "colab": {
      "name": "BTVN2_BestSum.ipynb",
      "provenance": []
    },
    "kernelspec": {
      "name": "python3",
      "display_name": "Python 3"
    },
    "language_info": {
      "name": "python"
    }
  },
  "cells": [
    {
      "cell_type": "code",
      "metadata": {
        "colab": {
          "base_uri": "https://localhost:8080/"
        },
        "id": "V7PQwWYxcB1K",
        "outputId": "77f9c275-6cfd-4104-de71-5410645947d7"
      },
      "source": [
        "arr = [int(x) for x in input().split()]\n",
        "k = int(input())"
      ],
      "execution_count": null,
      "outputs": [
        {
          "output_type": "stream",
          "text": [
            "5 10 12 13 15 18\n",
            "30\n"
          ],
          "name": "stdout"
        }
      ]
    },
    {
      "cell_type": "code",
      "metadata": {
        "id": "yKbTsjEocRGp"
      },
      "source": [
        "def MakeTab(arr, k):\n",
        "    tab = [[-1, int(1e9)] for _ in range(k+1)]\n",
        "    for i in range(len(arr)):\n",
        "        if arr[i]>k:\n",
        "            break\n",
        "        tab[arr[i]] = [0, 1]\n",
        "    for i in range(arr[1]+1, k+1):\n",
        "        if tab[i][0]==0:\n",
        "            continue\n",
        "        Min = int(1e9)\n",
        "        Min_id = -1\n",
        "        for j in range(1, (i//2)+1):\n",
        "            if (tab[j][0] != -1 and tab[i-j][0] != -1):\n",
        "                min_tmp = max(tab[j][1], tab[i-j][1])\n",
        "                # print(j, min_tmp)\n",
        "                if (min_tmp < Min):\n",
        "                    Min = min_tmp\n",
        "                    Min_id = j\n",
        "        # print(i, Min_id, Min)\n",
        "        tab[i][0] = Min_id\n",
        "        tab[i][1] = Min +1\n",
        "        # print(tab)\n",
        "    return tab\n",
        "\n"
      ],
      "execution_count": null,
      "outputs": []
    },
    {
      "cell_type": "code",
      "metadata": {
        "id": "MYeoJtSZuyj8"
      },
      "source": [
        "def printBestSum(val, tab):\n",
        "    if (tab[val][0] == 0):\n",
        "        print(val, end= ' ')\n",
        "        return\n",
        "    else:\n",
        "        printBestSum(tab[val][0], tab)\n",
        "        printBestSum(val -tab[val][0], tab)"
      ],
      "execution_count": null,
      "outputs": []
    },
    {
      "cell_type": "code",
      "metadata": {
        "colab": {
          "base_uri": "https://localhost:8080/"
        },
        "id": "10gH_8lAvwvz",
        "outputId": "838347c4-47c6-4e83-ee05-15f385b95747"
      },
      "source": [
        "printBestSum(30, MakeTab(arr, k))"
      ],
      "execution_count": null,
      "outputs": [
        {
          "output_type": "stream",
          "text": [
            "12 18 "
          ],
          "name": "stdout"
        }
      ]
    }
  ]
}