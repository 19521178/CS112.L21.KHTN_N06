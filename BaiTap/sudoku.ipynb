{
  "nbformat": 4,
  "nbformat_minor": 0,
  "metadata": {
    "colab": {
      "name": "sudoku.ipynb",
      "provenance": [],
      "collapsed_sections": []
    },
    "kernelspec": {
      "name": "python3",
      "display_name": "Python 3"
    },
    "language_info": {
      "name": "python"
    }
  },
  "cells": [
    {
      "cell_type": "code",
      "metadata": {
        "colab": {
          "base_uri": "https://localhost:8080/"
        },
        "id": "a4VK8HZNFkbg",
        "outputId": "52c404a9-78fa-4b50-eea3-b7f07ea0d461"
      },
      "source": [
        "for i in range(9):\n",
        "    A[i] = [int(x) for x in input().split()]\n",
        "print()"
      ],
      "execution_count": null,
      "outputs": [
        {
          "output_type": "stream",
          "text": [
            "0 0 7 5 2 0 6 0 0\n",
            "0 4 0 0 0 0 0 8 0\n",
            "0 3 6 1 0 4 0 0 0\n",
            "2 9 0 4 0 7 8 5 6\n",
            "1 5 0 0 0 0 0 3 0\n",
            "7 6 0 9 5 3 1 0 4\n",
            "0 7 0 0 0 0 4 0 2\n",
            "0 0 0 3 4 0 0 7 8\n",
            "0 0 5 0 0 2 0 0 0\n"
          ],
          "name": "stdout"
        }
      ]
    },
    {
      "cell_type": "code",
      "metadata": {
        "id": "PRdtb4ptGzA6"
      },
      "source": [
        "def row(r, v):\n",
        "    for j in range(9):\n",
        "        if A[r][j] == v:\n",
        "            return True\n",
        "    return False"
      ],
      "execution_count": null,
      "outputs": []
    },
    {
      "cell_type": "code",
      "metadata": {
        "id": "YUKCUqpmVaed"
      },
      "source": [
        "def col(c, v):\n",
        "    for i in range(9):\n",
        "        if A[i][c] == v:\n",
        "            return True\n",
        "    return False"
      ],
      "execution_count": null,
      "outputs": []
    },
    {
      "cell_type": "code",
      "metadata": {
        "id": "iBjOEGJzVlu9"
      },
      "source": [
        "def Square(r, c, v):\n",
        "    r0 = r//3 *3\n",
        "    c0 = c//3 *3\n",
        "    for i in range(r0, r0+3):\n",
        "        for j in range(c0, c0+3):\n",
        "            if A[i][j] == v:\n",
        "                return True\n",
        "    return False"
      ],
      "execution_count": null,
      "outputs": []
    },
    {
      "cell_type": "code",
      "metadata": {
        "id": "F-K-fRsFHIA5"
      },
      "source": [
        "def Backtrack(r, c):\n",
        "    if r==9:\n",
        "        return True\n",
        "    if c==9:\n",
        "        return Backtrack(r+1, 0)\n",
        "\n",
        "    # Bỏ qua nếu ô đã có sẵn\n",
        "    if (A[r][c]> 0):\n",
        "        return Backtrack(r, c+1)\n",
        "\n",
        "    # Tìm ra không gian nghiệm của ô\n",
        "    space = []\n",
        "    for i in range(1, 10):\n",
        "        if (row(r, i)== False and col(c, i)==False and Square(r, c, i)==False):\n",
        "            space.append(i)\n",
        "    # print(\"Hang \", r, \" Cot \", c, \" \",space)\n",
        "        \n",
        "    # Với mỗi nghiệm, thử điền và đến ô tiếp theo\n",
        "    for i in space:\n",
        "        A[r][c] = i\n",
        "        if (Backtrack(r, c+1)==False):\n",
        "            A[r][c]= 0\n",
        "        else:\n",
        "             return True\n",
        "    return False\n",
        "    "
      ],
      "execution_count": null,
      "outputs": []
    },
    {
      "cell_type": "code",
      "metadata": {
        "id": "6AHLF3pEKYau"
      },
      "source": [
        "def output(A):\n",
        "    for i in range(9):\n",
        "        for j in range(9):\n",
        "            print(A[i][j], end = ' ')\n",
        "        print(end = '\\n')\n"
      ],
      "execution_count": null,
      "outputs": []
    },
    {
      "cell_type": "code",
      "metadata": {
        "colab": {
          "base_uri": "https://localhost:8080/"
        },
        "id": "OXv_BNjRHJiK",
        "outputId": "e2a9c8aa-7248-486c-eb51-05c091571fcb"
      },
      "source": [
        "if Backtrack(0, 0):\n",
        "    output(A)\n",
        "else:\n",
        "    print(-1)"
      ],
      "execution_count": 67,
      "outputs": [
        {
          "output_type": "stream",
          "text": [
            "9 1 7 5 2 8 6 4 3 \n",
            "5 4 2 6 3 9 7 8 1 \n",
            "8 3 6 1 7 4 2 9 5 \n",
            "2 9 3 4 1 7 8 5 6 \n",
            "1 5 4 2 8 6 9 3 7 \n",
            "7 6 8 9 5 3 1 2 4 \n",
            "3 7 1 8 9 5 4 6 2 \n",
            "6 2 9 3 4 1 5 7 8 \n",
            "4 8 5 7 6 2 3 1 9 \n"
          ],
          "name": "stdout"
        }
      ]
    }
  ]
}