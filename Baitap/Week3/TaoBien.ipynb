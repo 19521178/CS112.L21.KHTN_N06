{
  "nbformat": 4,
  "nbformat_minor": 0,
  "metadata": {
    "colab": {
      "name": "TaoBien.ipynb",
      "provenance": [],
      "collapsed_sections": [],
      "toc_visible": true
    },
    "kernelspec": {
      "name": "python3",
      "display_name": "Python 3"
    },
    "language_info": {
      "name": "python"
    }
  },
  "cells": [
    {
      "cell_type": "markdown",
      "metadata": {
        "id": "Ewy_emBuWcaE"
      },
      "source": [
        "#1. Đề bài\n",
        "Tảo biển sinh sản rất nhanh khi có môi trường thuận lợi với chúng và có những loài còn tiết ra môi trường những chất độc hại.\n",
        "\n",
        "Một loại tảo nâu trong môi trường nước bị ô nhiễm nặng sinh sản theo quy luật sau:\n",
        "\n",
        "Ngày đầu tiên (ngày 0) có $n$ cá thể ở mức 1, Ở mỗi ngày tiếp theo, mỗi cá thể mức $i$ sinh ra $i$ cá thể mức 1, các cá thể mới sinh sẽ sinh sôi, phát triển từ ngày hôm sau. Bản thân các cá thể mức $i$ phát triển thành mức $i+1$ và chu kỳ phát triển trong ngày chấm dứt. Hãy xác định sau $k$ ngày trong nước biển có bao nhiêu cá thể.\n",
        "\n",
        "* Dữ liệu: Vào từ thiết bị nhập chuẩn gồm một dòng chứa 2 số nguyên $n$ và $k$ ($1 ≤ n ≤ 1000, 1 ≤ k ≤ 10^{17}$).\n",
        "* Kết quả: Đưa ra thiết bị xuất chuẩn một số nguyên – số lượng cá thể tảo theo mô đun $10^9+7$.\n",
        "*Ví dụ:\n",
        "\n",
        "| Input | Output |\n",
        "| --- | --- |\n",
        "| 3 2 | 15 |"
      ]
    },
    {
      "cell_type": "markdown",
      "metadata": {
        "id": "sokBcP36XvBN"
      },
      "source": [
        "# 2. Abstraction\n",
        "Cho n, k. Xuất (n * giá trị ở vị trí lẻ thứ k trong dãy số Fibonacci)"
      ]
    },
    {
      "cell_type": "markdown",
      "metadata": {
        "id": "2LgPtpbNYnCe"
      },
      "source": [
        "#3. Pattern Recognition\n",
        "* Dạng toán: Tính Fibonacci\n",
        "* Đặc điểm nhận dạng:\n",
        "    * n không ảnh hưởng trong lúc tính toán, bài toán chỉ tập trung vào k như một số thứ tự\n",
        "    * Kết quả khi n=1 tương ứng với k = {0, 1 2, 3, ...}: {1, 2, 5, 13, ...}\n",
        "    * Dãy số Fibonacci: {0, 1, 1, 2, 3, 5, 8, 13, ...}"
      ]
    },
    {
      "cell_type": "markdown",
      "metadata": {
        "id": "IWyBGL5xbu10"
      },
      "source": [
        "# 4. Algorithm Design"
      ]
    },
    {
      "cell_type": "markdown",
      "metadata": {
        "id": "3kAG24fyb7er"
      },
      "source": [
        "## 1. Sử dụng ma trận + đệ quy"
      ]
    },
    {
      "cell_type": "markdown",
      "metadata": {
        "id": "9L-qYMXMeoTk"
      },
      "source": [
        "* Python Code:"
      ]
    },
    {
      "cell_type": "code",
      "metadata": {
        "id": "XyyM5X9_enXN"
      },
      "source": [
        "def Matrix_mul(A, B):\n",
        "    ans = [[0, 0], \n",
        "           [0, 0]]\n",
        "    for i in range(2):\n",
        "        for j in range(2):\n",
        "            for k in range(2):\n",
        "                ans[i][j] = ans[i][j] + (A[i][k] * B[k][j])\n",
        "    return ans\n",
        "\n",
        "S_Matrix = [[1, 1],\n",
        "            [1, 0]]\n",
        "\n",
        "def Fibo_Matrix(n):\n",
        "    if (n==1): return S_Matrix\n",
        "    if n % 2 == 0 :\n",
        "        return Matrix_mul(Fibo_Matrix(n//2) , Fibo_Matrix(n//2))\n",
        "    else:\n",
        "        return Matrix_mul(Fibo_Matrix(n//2) , Fibo_Matrix(n//2 +1))\n",
        "    \n",
        "n,k=map(int, input().split())\n",
        "ans = Fibo_Matrix(2*k)[0][0]\n",
        "print((n*ans)% (10**9+7))"
      ],
      "execution_count": null,
      "outputs": []
    },
    {
      "cell_type": "markdown",
      "metadata": {
        "id": "a5WIAKFzer_7"
      },
      "source": [
        "* Độ phức tạp: $O(n*logn)$ "
      ]
    },
    {
      "cell_type": "markdown",
      "metadata": {
        "id": "lfqJUvlHcMny"
      },
      "source": [
        "## 2. Sử dụng quy hoạch động"
      ]
    },
    {
      "cell_type": "markdown",
      "metadata": {
        "id": "sJI-XrrecSpr"
      },
      "source": [
        "* Python Code:\n"
      ]
    },
    {
      "cell_type": "code",
      "metadata": {
        "id": "F9h1L6gGWS_j"
      },
      "source": [
        "def fibonacci_le (x):\n",
        "    f0 = 0\n",
        "    f1 = 1\n",
        "    for i in range(x):\n",
        "        f0=f0+f1\n",
        "        f1=f0+f1\n",
        "    return f1\n",
        "n,x=map(int, input().split())\n",
        "ans=fibonacci_le(x)\n",
        "print((n*ans)%(10**9+7))"
      ],
      "execution_count": null,
      "outputs": []
    },
    {
      "cell_type": "markdown",
      "metadata": {
        "id": "Ba-kGd6idHFr"
      },
      "source": [
        "* Độ phức tạp: $O(n)$"
      ]
    }
  ]
}
