{
  "nbformat": 4,
  "nbformat_minor": 0,
  "metadata": {
    "colab": {
      "name": "GraphAlgorithms.ipynb",
      "provenance": [],
      "toc_visible": true
    },
    "kernelspec": {
      "name": "python3",
      "display_name": "Python 3"
    },
    "language_info": {
      "name": "python"
    }
  },
  "cells": [
    {
      "cell_type": "code",
      "metadata": {
        "id": "1rDErv2uNnyC"
      },
      "source": [
        "from collections import defaultdict\n",
        "def addEdge(u, v):\n",
        "    graph[u].append(v)\n",
        "def add2Edge(u, v):\n",
        "    graph[u].append(v)\n",
        "    graph[v].append(u)\n",
        "def WaddEdge(u, v, w):\n",
        "    graph[u].append([v, w])\n",
        "def Wadd2Edge(u, v, w):\n",
        "    graph[u].append([v, w])\n",
        "    graph[v].append([u, w])"
      ],
      "execution_count": 2,
      "outputs": []
    },
    {
      "cell_type": "code",
      "metadata": {
        "id": "dydTn0v76brP"
      },
      "source": [
        "graph = defaultdict(list)"
      ],
      "execution_count": null,
      "outputs": []
    },
    {
      "cell_type": "markdown",
      "metadata": {
        "id": "VdfTpbVc_1w3"
      },
      "source": [
        "#BFS and DFS"
      ]
    },
    {
      "cell_type": "code",
      "metadata": {
        "id": "ZujnsL5X45h6"
      },
      "source": [
        "def BFS(graph, start, visited):\n",
        "    visited.append(start)\n",
        "    queue = [start]\n",
        "    while queue:\n",
        "        vertex = queue.pop(0)\n",
        "        for neighbor in graph[vertex]:\n",
        "            if neighbor not in visited:\n",
        "                visited.append(neighbor)\n",
        "                queue.append(neighbor)\n",
        "    return visited"
      ],
      "execution_count": 2,
      "outputs": []
    },
    {
      "cell_type": "code",
      "metadata": {
        "id": "lIjoKVFk4q_r"
      },
      "source": [
        "def DFS(graph, v, visited):\n",
        "    visited.append(v)\n",
        "    for neighbor in graph[v]:\n",
        "        if neighbor not in visited:\n",
        "            DFS(graph, neighbor, visited)\n",
        "    return visited"
      ],
      "execution_count": 3,
      "outputs": []
    },
    {
      "cell_type": "code",
      "metadata": {
        "id": "8okNtYtvKXdC"
      },
      "source": [
        "graph = defaultdict(list)\n",
        "addEdge(1, 2)\n",
        "addEdge(1, 5)\n",
        "addEdge(2, 3)\n",
        "addEdge(2, 5)\n",
        "addEdge(3, 4)\n",
        "addEdge(4, 1)\n",
        "addEdge(5, 2)"
      ],
      "execution_count": 4,
      "outputs": []
    },
    {
      "cell_type": "code",
      "metadata": {
        "colab": {
          "base_uri": "https://localhost:8080/"
        },
        "id": "RHEwShi-Ob3T",
        "outputId": "3a258c5f-b67a-4aa2-a2d2-2e141b96ebed"
      },
      "source": [
        "BFS(graph, 1, [])"
      ],
      "execution_count": 5,
      "outputs": [
        {
          "output_type": "execute_result",
          "data": {
            "text/plain": [
              "[1, 2, 5, 3, 4]"
            ]
          },
          "metadata": {
            "tags": []
          },
          "execution_count": 5
        }
      ]
    },
    {
      "cell_type": "code",
      "metadata": {
        "colab": {
          "base_uri": "https://localhost:8080/"
        },
        "id": "NwmIq79w8AAp",
        "outputId": "d882c393-b766-434b-c4a5-985b6dcadba8"
      },
      "source": [
        "DFS(graph, 1, [])"
      ],
      "execution_count": 6,
      "outputs": [
        {
          "output_type": "execute_result",
          "data": {
            "text/plain": [
              "[1, 2, 3, 4, 5]"
            ]
          },
          "metadata": {
            "tags": []
          },
          "execution_count": 6
        }
      ]
    },
    {
      "cell_type": "markdown",
      "metadata": {
        "id": "9NYrDnpJAABs"
      },
      "source": [
        "# Detect Cycle"
      ]
    },
    {
      "cell_type": "markdown",
      "metadata": {
        "id": "i_BHiVoDAIQM"
      },
      "source": [
        "## Undirected"
      ]
    },
    {
      "cell_type": "code",
      "metadata": {
        "id": "gFzb81k_IcbR",
        "colab": {
          "base_uri": "https://localhost:8080/"
        },
        "outputId": "fad371ef-5f6b-4822-dcd1-9730bb3ce7cf"
      },
      "source": [
        "def isCyclicUtil(v, visited, parent):\n",
        "    visited.append(v)\n",
        "    for neighbor in graph[v]:\n",
        "        if neighbor not in visited:\n",
        "            if isCyclicUtil(neighbor, visited, v):\n",
        "                return True\n",
        "        # elif neighbor != parent:\n",
        "        #     return True\n",
        "    return False\n",
        "\n",
        "def isCyclic(graph):\n",
        "    visited = []\n",
        "    for start in graph:\n",
        "        if start not in visited:\n",
        "            if isCyclicUtil(start,visited,-1):\n",
        "                return True\n",
        "    return False\n",
        " \n",
        "graph = defaultdict(list)\n",
        "add2Edge(1, 0)\n",
        "add2Edge(2, 0)\n",
        "add2Edge(2, 1)\n",
        "add2Edge(4, 2)\n",
        "add2Edge(3, 4)\n",
        "add2Edge(4, 3)\n",
        "if isCyclic(graph) == 1:\n",
        "    print (\"Graph has a cycle\")\n",
        "else:\n",
        "    print (\"Graph has no cycle\")\n",
        " "
      ],
      "execution_count": null,
      "outputs": [
        {
          "output_type": "stream",
          "text": [
            "Graph has a cycle\n"
          ],
          "name": "stdout"
        }
      ]
    },
    {
      "cell_type": "markdown",
      "metadata": {
        "id": "hvIKM38dAMir"
      },
      "source": [
        "##Directed"
      ]
    },
    {
      "cell_type": "code",
      "metadata": {
        "colab": {
          "base_uri": "https://localhost:8080/"
        },
        "id": "cJN93d-hnUW0",
        "outputId": "40a36fa1-3cce-48ec-da38-f1253b45ecae"
      },
      "source": [
        "def isCyclicUtil(v, visited, recStack):\n",
        "    visited.append(v)\n",
        "    recStack.append(v)\n",
        "    print(visited, recStack)\n",
        "    for neighbor in graph[v]:\n",
        "        if neighbor not in visited:\n",
        "            if isCyclicUtil(neighbor, visited, recStack):\n",
        "                return True\n",
        "        elif neighbor in recStack:\n",
        "            return True\n",
        "\n",
        "    recStack.pop(-1)\n",
        "    return False\n",
        "\n",
        "\n",
        "def isCyclic(graph):\n",
        "    visited = []\n",
        "    recStack = []\n",
        "    for start in list(graph):\n",
        "        print('x', end= ' ')\n",
        "        if start not in visited:\n",
        "            if isCyclicUtil(start, visited, recStack):\n",
        "                return True\n",
        "    return False\n",
        " \n",
        "graph = defaultdict(list)\n",
        "addEdge(1, 0)\n",
        "addEdge(2, 0)\n",
        "addEdge(2, 1)\n",
        "addEdge(4, 2)\n",
        "addEdge(3, 4)\n",
        "addEdge(4, 3)\n",
        "if isCyclic(graph) == True:\n",
        "    print (\"Graph has a cycle\")\n",
        "else:\n",
        "    print (\"Graph has no cycle\")\n",
        " "
      ],
      "execution_count": null,
      "outputs": [
        {
          "output_type": "stream",
          "text": [
            "x [1] [1]\n",
            "[1, 0] [1, 0]\n",
            "x [1, 0, 2] [2]\n",
            "x [1, 0, 2, 4] [4]\n",
            "[1, 0, 2, 4, 3] [4, 3]\n",
            "Graph has a cycle\n"
          ],
          "name": "stdout"
        }
      ]
    },
    {
      "cell_type": "code",
      "metadata": {
        "colab": {
          "base_uri": "https://localhost:8080/"
        },
        "id": "mVQKbwq0faZL",
        "outputId": "19009230-0a2f-4016-8ca1-ed2d82569a29"
      },
      "source": [
        "len(graph)"
      ],
      "execution_count": null,
      "outputs": [
        {
          "output_type": "execute_result",
          "data": {
            "text/plain": [
              "5"
            ]
          },
          "metadata": {
            "tags": []
          },
          "execution_count": 192
        }
      ]
    },
    {
      "cell_type": "markdown",
      "metadata": {
        "id": "czelKKOpQfNF"
      },
      "source": [
        "# Shortest Path"
      ]
    },
    {
      "cell_type": "markdown",
      "metadata": {
        "id": "3Vc_xJx7QjKd"
      },
      "source": [
        "## Unweighted"
      ]
    },
    {
      "cell_type": "code",
      "metadata": {
        "id": "F7fmAPlEMLRc"
      },
      "source": [
        "def unweight1N(graph, src):\n",
        "    visited = [src]\n",
        "    queue = [src]\n",
        "    dst = [-1]*(len(graph)+1)\n",
        "    dst[src] = 0\n",
        "    while queue:\n",
        "        node = queue.pop(0)\n",
        "        for neighbor in graph[node]:\n",
        "            if neighbor not in visited:\n",
        "                visited.append(neighbor)\n",
        "                queue.append(neighbor)\n",
        "                dst[neighbor] = dst[node] + 1\n",
        "    return dst\n"
      ],
      "execution_count": null,
      "outputs": []
    },
    {
      "cell_type": "code",
      "metadata": {
        "id": "vO1PCQFxQnJA"
      },
      "source": [
        "def unweight1N(graph, src):\n",
        "    visited = [src]\n",
        "    queue = [src]\n",
        "    parent = [-1] * (len(graph)+1)\n",
        "    dst = [-1]*(len(graph)+1)\n",
        "    dst[src] = 0\n",
        "    while queue:\n",
        "        node = queue.pop(0)\n",
        "        for neighbor in graph[node]:\n",
        "            if neighbor not in visited:\n",
        "                visited.append(neighbor)\n",
        "                queue.append(neighbor)\n",
        "                parent[neighbor] = node\n",
        "                dst[neighbor] = dst[node] + 1\n",
        "    for i in graph:\n",
        "        print(i, end=': ')\n",
        "        printPath(parent, src, i)\n",
        "        print('distance =',dst[i])\n",
        "    return dst\n"
      ],
      "execution_count": 19,
      "outputs": []
    },
    {
      "cell_type": "code",
      "metadata": {
        "id": "I688IDAuKOkh"
      },
      "source": [
        "def printPath(parent, src, dest):\n",
        "    if (dest != src):\n",
        "        printPath(parent, src, parent[dest])\n",
        "    print(dest, end=' ')\n"
      ],
      "execution_count": 8,
      "outputs": []
    },
    {
      "cell_type": "code",
      "metadata": {
        "colab": {
          "base_uri": "https://localhost:8080/"
        },
        "id": "8Z7HWZ0JBsPU",
        "outputId": "1f1ddd4a-0b60-49dc-8ed7-95272b38c13f"
      },
      "source": [
        "graph = defaultdict(list)\n",
        "addEdge(1, 2)\n",
        "addEdge(1, 5)\n",
        "addEdge(2, 3)\n",
        "addEdge(2, 5)\n",
        "addEdge(3, 4)\n",
        "addEdge(4, 1)\n",
        "addEdge(5, 2)\n",
        "unweight1N(graph, 1)"
      ],
      "execution_count": 20,
      "outputs": [
        {
          "output_type": "stream",
          "text": [
            "1: 1 distance =  0\n",
            "2: 1 2 distance =  1\n",
            "3: 1 2 3 distance =  2\n",
            "4: 1 2 3 4 distance =  3\n",
            "5: 1 5 distance =  1\n"
          ],
          "name": "stdout"
        },
        {
          "output_type": "execute_result",
          "data": {
            "text/plain": [
              "[-1, 0, 1, 2, 3, 1]"
            ]
          },
          "metadata": {
            "tags": []
          },
          "execution_count": 20
        }
      ]
    },
    {
      "cell_type": "markdown",
      "metadata": {
        "id": "6KLAeOQrs4Ou"
      },
      "source": [
        "## Positive Weighted"
      ]
    },
    {
      "cell_type": "code",
      "metadata": {
        "id": "RELpoNz2mrLS"
      },
      "source": [
        "def Dijktra(graph, src):\n",
        "    dst = [100000]*(max(graph)+1)\n",
        "    dst[src] = 0\n",
        "    res = [100000]*(max(graph)+1)\n",
        "    res[src] = 0\n",
        "    confirmed = [src] # Chốt phần tử src\n",
        "    for _ in range(len(res)-1):\n",
        "        node = confirmed[-1]\n",
        "        dst[node] = -1\n",
        "        Min = 100000\n",
        "        Min_id = node\n",
        "        #Xét đến những nốt kề chưa chốt\n",
        "        for neighbor, weight in graph[node]:\n",
        "            if neighbor not in confirmed:\n",
        "                #Cập nhật dst[neighbor]\n",
        "                tmp = res[node] + weight\n",
        "                if tmp < dst[neighbor]:\n",
        "                    dst[neighbor] = tmp\n",
        "        \n",
        "        #Tim Min, chốt Min\n",
        "        for i in range(len(dst)):\n",
        "            if (dst[i] == -1 or dst[i]==100000):\n",
        "                continue\n",
        "            if Min>dst[i]:\n",
        "                Min = dst[i]\n",
        "                Min_id = i\n",
        "        confirmed.append(Min_id)\n",
        "        res[Min_id] = Min\n",
        "    printDijktra(res, confirmed)\n",
        "    return res"
      ],
      "execution_count": null,
      "outputs": []
    },
    {
      "cell_type": "code",
      "metadata": {
        "id": "9tS3L1kOETQ1"
      },
      "source": [
        "def printDijktra(res, detected):\n",
        "    for i in detected:\n",
        "        print(i, res[i])"
      ],
      "execution_count": null,
      "outputs": []
    },
    {
      "cell_type": "code",
      "metadata": {
        "colab": {
          "base_uri": "https://localhost:8080/",
          "height": 228
        },
        "id": "uVtAh8XiEnKu",
        "outputId": "877fe55b-a05b-49b7-c560-0057ac87ca9b"
      },
      "source": [
        "graph = defaultdict(list)\n",
        "Wadd2Edge(0, 1, 4)\n",
        "Wadd2Edge(0, 2, 1)\n",
        "Wadd2Edge(1, 2, 2)\n",
        "Wadd2Edge(1, 3, 8)\n",
        "Wadd2Edge(2, 4, 5)\n",
        "Wadd2Edge(2, 5, 2)\n",
        "Wadd2Edge(3, 4, 3)\n",
        "Wadd2Edge(4, 5, 7)\n",
        "Dijktra(graph, 0)"
      ],
      "execution_count": 1,
      "outputs": [
        {
          "output_type": "error",
          "ename": "NameError",
          "evalue": "ignored",
          "traceback": [
            "\u001b[0;31m---------------------------------------------------------------------------\u001b[0m",
            "\u001b[0;31mNameError\u001b[0m                                 Traceback (most recent call last)",
            "\u001b[0;32m<ipython-input-1-c9c5ffb7e67f>\u001b[0m in \u001b[0;36m<module>\u001b[0;34m()\u001b[0m\n\u001b[0;32m----> 1\u001b[0;31m \u001b[0mgraph\u001b[0m \u001b[0;34m=\u001b[0m \u001b[0mdefaultdict\u001b[0m\u001b[0;34m(\u001b[0m\u001b[0mlist\u001b[0m\u001b[0;34m)\u001b[0m\u001b[0;34m\u001b[0m\u001b[0;34m\u001b[0m\u001b[0m\n\u001b[0m\u001b[1;32m      2\u001b[0m \u001b[0mWadd2Edge\u001b[0m\u001b[0;34m(\u001b[0m\u001b[0;36m0\u001b[0m\u001b[0;34m,\u001b[0m \u001b[0;36m1\u001b[0m\u001b[0;34m,\u001b[0m \u001b[0;36m4\u001b[0m\u001b[0;34m)\u001b[0m\u001b[0;34m\u001b[0m\u001b[0;34m\u001b[0m\u001b[0m\n\u001b[1;32m      3\u001b[0m \u001b[0mWadd2Edge\u001b[0m\u001b[0;34m(\u001b[0m\u001b[0;36m0\u001b[0m\u001b[0;34m,\u001b[0m \u001b[0;36m2\u001b[0m\u001b[0;34m,\u001b[0m \u001b[0;36m1\u001b[0m\u001b[0;34m)\u001b[0m\u001b[0;34m\u001b[0m\u001b[0;34m\u001b[0m\u001b[0m\n\u001b[1;32m      4\u001b[0m \u001b[0mWadd2Edge\u001b[0m\u001b[0;34m(\u001b[0m\u001b[0;36m1\u001b[0m\u001b[0;34m,\u001b[0m \u001b[0;36m2\u001b[0m\u001b[0;34m,\u001b[0m \u001b[0;36m2\u001b[0m\u001b[0;34m)\u001b[0m\u001b[0;34m\u001b[0m\u001b[0;34m\u001b[0m\u001b[0m\n\u001b[1;32m      5\u001b[0m \u001b[0mWadd2Edge\u001b[0m\u001b[0;34m(\u001b[0m\u001b[0;36m1\u001b[0m\u001b[0;34m,\u001b[0m \u001b[0;36m3\u001b[0m\u001b[0;34m,\u001b[0m \u001b[0;36m8\u001b[0m\u001b[0;34m)\u001b[0m\u001b[0;34m\u001b[0m\u001b[0;34m\u001b[0m\u001b[0m\n",
            "\u001b[0;31mNameError\u001b[0m: name 'defaultdict' is not defined"
          ]
        }
      ]
    },
    {
      "cell_type": "markdown",
      "metadata": {
        "id": "X_aChRK-zgPE"
      },
      "source": [
        "## Negative Weighted"
      ]
    },
    {
      "cell_type": "code",
      "metadata": {
        "id": "cXUkPxMzzj6j"
      },
      "source": [
        "def Bellman_Ford(graph, src):\n",
        "    V = len(graph)\n",
        "    dst = [100000]*(V)\n",
        "    dst[src] = 0\n",
        "    queue = [src]\n",
        "    # count = [0] * (V)\n",
        "    while(queue):\n",
        "        node = queue.pop(0)\n",
        "        #Xét đến những node kề\n",
        "        for neighbor, weight in graph[node]:\n",
        "            #Cập nhật dst[neighbor] và thêm neighbor vào queue\n",
        "            tmp = dst[node] + weight\n",
        "            if tmp < dst[neighbor]:\n",
        "                dst[neighbor] = tmp\n",
        "                queue.append(neighbor)\n",
        "                # count[neighbor]+=1\n",
        "                # if (count[neighbor] > V):\n",
        "                #     print(\"Error\")\n",
        "                #     return\n",
        "    print(dst)\n",
        "    return dst"
      ],
      "execution_count": null,
      "outputs": []
    },
    {
      "cell_type": "code",
      "metadata": {
        "colab": {
          "base_uri": "https://localhost:8080/"
        },
        "id": "K0PspsZiwra4",
        "outputId": "db0c69cb-ca53-493e-a6c5-cf15cc95fbf6"
      },
      "source": [
        "graph = defaultdict(list)\n",
        "# WaddEdge(1, 2, 3)\n",
        "# WaddEdge(1, 5, 4)\n",
        "# WaddEdge(2, 5, 9)\n",
        "# WaddEdge(2, 3, 2)\n",
        "# WaddEdge(3, 2, -2)\n",
        "# WaddEdge(2, 4, 2)\n",
        "# WaddEdge(4, 3, 3)\n",
        "# WaddEdge(5, 3, -5)\n",
        "WaddEdge(0, 1, 4)\n",
        "WaddEdge(0, 2, 2)\n",
        "WaddEdge(1, 2, -3)\n",
        "WaddEdge(1, 8, 3)\n",
        "WaddEdge(2, 4, 5)\n",
        "WaddEdge(4, 3, 3)\n",
        "WaddEdge(4, 5, 7)\n",
        "WaddEdge(5, 2, 2)\n",
        "Bellman_Ford(graph, 0)"
      ],
      "execution_count": null,
      "outputs": [
        {
          "output_type": "stream",
          "text": [
            "[0, 100000, 100000, 100000] [0]\n",
            "[0, 5, 100000, 100000] [1]\n",
            "[0, 5, 3, 100000] [2]\n",
            "[0, 5, 3, 1] [3]\n",
            "[0, 4, 3, 1] [1]\n",
            "[0, 4, 2, 1] [2]\n",
            "[0, 4, 2, 0] [3]\n",
            "[0, 3, 2, 0] [1]\n",
            "[0, 3, 1, 0] [2]\n",
            "[0, 3, 1, -1] [3]\n",
            "[0, 2, 1, -1] [1]\n",
            "[0, 2, 0, -1] [2]\n",
            "[0, 2, 0, -2] [3]\n",
            "Error\n"
          ],
          "name": "stdout"
        }
      ]
    },
    {
      "cell_type": "markdown",
      "metadata": {
        "id": "GKM8bRZW982f"
      },
      "source": [
        "# Trash"
      ]
    },
    {
      "cell_type": "code",
      "metadata": {
        "id": "xr0GIBCqLCiy"
      },
      "source": [
        ""
      ],
      "execution_count": null,
      "outputs": []
    },
    {
      "cell_type": "code",
      "metadata": {
        "id": "Q3HzlkL8HqDI"
      },
      "source": [
        "def DFS(v, graph):\n",
        "    visited = []\n",
        "    root_stack = []\n",
        "    visited.append(v)\n",
        "    root_stack.append(v)\n",
        "    while(root_stack):\n",
        "        root = root_stack[-1]\n",
        "        still = False\n",
        "        for adjacent in graph[root]:\n",
        "            if adjacent not in visited:\n",
        "                still = True\n",
        "                root_stack.append(adjacent)\n",
        "                visited.append(adjacent)\n",
        "                print(adjacent, end = ' ')\n",
        "                break\n",
        "        if still == False:\n",
        "            _ = root_stack.pop(-1)\n",
        "        print(root_stack)\n",
        "    return visited"
      ],
      "execution_count": null,
      "outputs": []
    },
    {
      "cell_type": "code",
      "metadata": {
        "colab": {
          "base_uri": "https://localhost:8080/"
        },
        "id": "eU293J28-GTv",
        "outputId": "f68b1330-201a-4b2a-e4d2-0d9be7c22de2"
      },
      "source": [
        "graph = defaultdict(list)\n",
        "addEdge(1, 5)\n",
        "addEdge(4, 1)\n",
        "addEdge(1, 2)\n",
        "addEdge(2, 5)\n",
        "addEdge(2, 3)\n",
        "addEdge(3, 4)\n",
        "addEdge(5, 2)\n",
        "DFS(1, graph)"
      ],
      "execution_count": null,
      "outputs": [
        {
          "output_type": "stream",
          "text": [
            "5 [1, 5]\n",
            "2 [1, 5, 2]\n",
            "3 [1, 5, 2, 3]\n",
            "4 [1, 5, 2, 3, 4]\n",
            "[1, 5, 2, 3]\n",
            "[1, 5, 2]\n",
            "[1, 5]\n",
            "[1]\n",
            "[]\n"
          ],
          "name": "stdout"
        },
        {
          "output_type": "execute_result",
          "data": {
            "text/plain": [
              "[1, 5, 2, 3, 4]"
            ]
          },
          "metadata": {
            "tags": []
          },
          "execution_count": 148
        }
      ]
    },
    {
      "cell_type": "code",
      "metadata": {
        "id": "37GHXQcA_sE1"
      },
      "source": [
        "root_stack = [1, 3, 5, 2]\n",
        "_ = root_stack.pop(-1)\n"
      ],
      "execution_count": null,
      "outputs": []
    },
    {
      "cell_type": "code",
      "metadata": {
        "colab": {
          "base_uri": "https://localhost:8080/"
        },
        "id": "i-Gn1QH1_0F-",
        "outputId": "5d61a0ad-9c43-4f7a-8945-894349ec299c"
      },
      "source": [
        "root_stack"
      ],
      "execution_count": null,
      "outputs": [
        {
          "output_type": "execute_result",
          "data": {
            "text/plain": [
              "[1, 3, 5]"
            ]
          },
          "metadata": {
            "tags": []
          },
          "execution_count": 146
        }
      ]
    },
    {
      "cell_type": "code",
      "metadata": {
        "id": "mQI9C2nMTT9D"
      },
      "source": [
        "def BFS(v, graph):\n",
        "    visited = [False]*(max(graph)+1)\n",
        "    # visited:      [F, F, F, F, F,..., F]\n",
        "    # id_verticle:   0  1  2  3  4,...,    \n",
        "\n",
        "    to_visit_queue = []\n",
        "    # Thêm vào cuối, lấy ở cuối\n",
        "\n",
        "    to_visit_queue.append(v)\n",
        "    visited[v] = True\n",
        "    # Khởi tạo đỉnh SẼ thăm đầu tiên\n",
        "\n",
        "    while(to_visit_queue):\n",
        "        look_point = to_visit_queue.pop(0)\n",
        "        print(look_point, end= ' ')\n",
        "        for adjacent in graph[look_point]:\n",
        "            if visited[adjacent] == False:\n",
        "                to_visit_queue.append(adjacent)\n",
        "                visited[adjacent] = True\n",
        "    return visited"
      ],
      "execution_count": null,
      "outputs": []
    },
    {
      "cell_type": "code",
      "metadata": {
        "colab": {
          "base_uri": "https://localhost:8080/"
        },
        "id": "0eQ4y_aFPMxB",
        "outputId": "7ff256e2-61ba-4e1c-def2-36bd4979332a"
      },
      "source": [
        "from collections import defaultdict\n",
        "import sys\n",
        " \n",
        "class Heap():\n",
        " \n",
        "    def __init__(self):\n",
        "        self.array = []\n",
        "        self.size = 0\n",
        "        self.pos = []\n",
        " \n",
        "    def newMinHeapNode(self, v, dist):\n",
        "        minHeapNode = [v, dist]\n",
        "        return minHeapNode\n",
        " \n",
        "    # A utility function to swap two nodes\n",
        "    # of min heap. Needed for min heapify\n",
        "    def swapMinHeapNode(self,a, b):\n",
        "        t = self.array[a]\n",
        "        self.array[a] = self.array[b]\n",
        "        self.array[b] = t\n",
        " \n",
        "    # A standard function to heapify at given idx\n",
        "    # This function also updates position of nodes\n",
        "    # when they are swapped.Position is needed\n",
        "    # for decreaseKey()\n",
        "    def minHeapify(self, idx):\n",
        "        smallest = idx\n",
        "        left = 2*idx + 1\n",
        "        right = 2*idx + 2\n",
        " \n",
        "        if (left < self.size and self.array[left][1] < self.array[smallest][1]):\n",
        "            smallest = left\n",
        " \n",
        "        if (right < self.size and self.array[right][1]< self.array[smallest][1]):\n",
        "            smallest = right\n",
        " \n",
        "        # The nodes to be swapped in min\n",
        "        # heap if idx is not smallest\n",
        "        if smallest != idx:\n",
        " \n",
        "            # Swap positions\n",
        "            self.pos[ self.array[smallest][0]]= idx\n",
        "            self.pos[ self.array[idx][0]]=smallest\n",
        " \n",
        "            # Swap nodes\n",
        "            self.swapMinHeapNode(smallest, idx)\n",
        " \n",
        "            self.minHeapify(smallest)\n",
        " \n",
        "    # Standard function to extract minimum\n",
        "    # node from heap\n",
        "    def extractMin(self):\n",
        " \n",
        "        # Return NULL wif heap is empty\n",
        "        if self.isEmpty() == True:\n",
        "            return\n",
        " \n",
        "        # Store the root node\n",
        "        root = self.array[0]\n",
        " \n",
        "        # Replace root node with last node\n",
        "        lastNode = self.array[self.size - 1]\n",
        "        self.array[0] = lastNode\n",
        " \n",
        "        # Update position of last node\n",
        "        self.pos[lastNode[0]] = 0\n",
        "        self.pos[root[0]] = self.size - 1\n",
        " \n",
        "        # Reduce heap size and heapify root\n",
        "        self.size -= 1\n",
        "        self.minHeapify(0)\n",
        " \n",
        "        return root\n",
        " \n",
        "    def isEmpty(self):\n",
        "        return True if self.size == 0 else False\n",
        " \n",
        "    def decreaseKey(self, v, dist):\n",
        " \n",
        "        # Get the index of v in  heap array\n",
        " \n",
        "        i = self.pos[v]\n",
        " \n",
        "        # Get the node and update its dist value\n",
        "        self.array[i][1] = dist\n",
        " \n",
        "        # Travel up while the complete tree is\n",
        "        # not hepified. This is a O(Logn) loop\n",
        "        while i > 0 and self.array[i][1] <self.array[(i - 1) // 2][1]:\n",
        " \n",
        "            # Swap this node with its parent\n",
        "            self.pos[ self.array[i][0] ] = (i-1)/2\n",
        "            self.pos[ self.array[(i-1)//2][0] ] = i\n",
        "            self.swapMinHeapNode(i, (i - 1)//2 )\n",
        " \n",
        "            # move to parent index\n",
        "            i = (i - 1) // 2;\n",
        " \n",
        "    # A utility function to check if a given\n",
        "    # vertex 'v' is in min heap or not\n",
        "    def isInMinHeap(self, v):\n",
        " \n",
        "        if self.pos[v] < self.size:\n",
        "            return True\n",
        "        return False\n",
        " \n",
        " \n",
        "def printArr(dist, n):\n",
        "    print (\"Vertex\\tDistance from source\")\n",
        "    for i in range(n):\n",
        "        print (i, '\\t\\t', dist[i])\n",
        " \n",
        " \n",
        "class Graph():\n",
        " \n",
        "    def __init__(self, V):\n",
        "        self.V = V\n",
        "        self.graph = defaultdict(list)\n",
        " \n",
        "    # Adds an edge to an undirected graph\n",
        "    def addEdge(self, src, dest, weight):\n",
        " \n",
        "        # Add an edge from src to dest.  A new node\n",
        "        # is added to the adjacency list of src. The\n",
        "        # node is added at the beginning. The first\n",
        "        # element of the node has the destination\n",
        "        # and the second elements has the weight\n",
        "        newNode = [dest, weight]\n",
        "        self.graph[src].insert(0, newNode)\n",
        " \n",
        "        # Since graph is undirected, add an edge\n",
        "        # from dest to src also\n",
        "        newNode = [src, weight]\n",
        "        self.graph[dest].insert(0, newNode)\n",
        " \n",
        "    # The main function that calulates distances\n",
        "    # of shortest paths from src to all vertices.\n",
        "    # It is a O(ELogV) function\n",
        "    def dijkstra(self, src):\n",
        " \n",
        "        V = self.V  # Get the number of vertices in graph\n",
        "        dist = []   # dist values used to pick minimum\n",
        "                    # weight edge in cut\n",
        " \n",
        "        # minHeap represents set E\n",
        "        minHeap = Heap()\n",
        " \n",
        "        #  Initialize min heap with all vertices.\n",
        "        # dist value of all vertices\n",
        "        for v in range(V):\n",
        "            dist.append(10000)\n",
        "            minHeap.array.append( minHeap.\n",
        "                                newMinHeapNode(v, dist[v]))\n",
        "            minHeap.pos.append(v)\n",
        " \n",
        "        # Make dist value of src vertex as 0 so\n",
        "        # that it is extracted first\n",
        "        minHeap.pos[src] = src\n",
        "        dist[src] = 0\n",
        "        minHeap.decreaseKey(src, dist[src])\n",
        " \n",
        "        # Initially size of min heap is equal to V\n",
        "        minHeap.size = V;\n",
        " \n",
        "        # In the following loop,\n",
        "        # min heap contains all nodes\n",
        "        # whose shortest distance is not yet finalized.\n",
        "        while minHeap.isEmpty() == False:\n",
        " \n",
        "            # Extract the vertex\n",
        "            # with minimum distance value\n",
        "            newHeapNode = minHeap.extractMin()\n",
        "            u = newHeapNode[0]\n",
        " \n",
        "            # Traverse through all adjacent vertices of\n",
        "            # u (the extracted vertex) and update their\n",
        "            # distance values\n",
        "            for pCrawl in self.graph[u]:\n",
        " \n",
        "                v = pCrawl[0]\n",
        " \n",
        "                # If shortest distance to v is not finalized\n",
        "                # yet, and distance to v through u is less\n",
        "                # than its previously calculated distance\n",
        "                if minHeap.isInMinHeap(v) and dist[u] != 10000 and pCrawl[1] + dist[u] < dist[v]:\n",
        "                        dist[v] = pCrawl[1] + dist[u]\n",
        " \n",
        "                        # update distance value\n",
        "                        # in min heap also\n",
        "                        minHeap.decreaseKey(v, dist[v])\n",
        " \n",
        "        printArr(dist,V)\n",
        " \n",
        " \n",
        "# Driver program to test the above functions\n",
        "graph = Graph(9)\n",
        "graph.addEdge(0, 1, 4)\n",
        "graph.addEdge(0, 7, 8)\n",
        "graph.addEdge(1, 2, 8)\n",
        "graph.addEdge(1, 7, 11)\n",
        "graph.addEdge(2, 3, 7)\n",
        "graph.addEdge(2, 8, 2)\n",
        "graph.addEdge(2, 5, 4)\n",
        "graph.addEdge(3, 4, 9)\n",
        "graph.addEdge(3, 5, 14)\n",
        "graph.addEdge(4, 5, 10)\n",
        "graph.addEdge(5, 6, 2)\n",
        "graph.addEdge(6, 7, 1)\n",
        "graph.addEdge(6, 8, 6)\n",
        "graph.addEdge(7, 8, 7)\n",
        "graph.dijkstra(0)"
      ],
      "execution_count": null,
      "outputs": [
        {
          "output_type": "stream",
          "text": [
            "Vertex\tDistance from source\n",
            "0 \t\t 0\n",
            "1 \t\t 4\n",
            "2 \t\t 12\n",
            "3 \t\t 19\n",
            "4 \t\t 21\n",
            "5 \t\t 11\n",
            "6 \t\t 9\n",
            "7 \t\t 8\n",
            "8 \t\t 14\n"
          ],
          "name": "stdout"
        }
      ]
    }
  ]
}