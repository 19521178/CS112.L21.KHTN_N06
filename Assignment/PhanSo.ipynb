{
  "nbformat": 4,
  "nbformat_minor": 0,
  "metadata": {
    "colab": {
      "name": "PhanSo.ipynb",
      "provenance": []
    },
    "kernelspec": {
      "name": "python3",
      "display_name": "Python 3"
    },
    "language_info": {
      "name": "python"
    }
  },
  "cells": [
    {
      "cell_type": "code",
      "metadata": {
        "colab": {
          "base_uri": "https://localhost:8080/"
        },
        "id": "yoRFA6m21Hgl",
        "outputId": "57eca722-cf1b-46f4-8207-aac372ecc2aa"
      },
      "source": [
        "a = int(input().strip())\n",
        "b = int(input().strip())\n",
        "c = int(input().strip())\n",
        "d = int(input().strip())\n"
      ],
      "execution_count": 2,
      "outputs": [
        {
          "output_type": "stream",
          "text": [
            "2\n",
            "7\n",
            "2\n",
            "3\n"
          ],
          "name": "stdout"
        }
      ]
    },
    {
      "cell_type": "markdown",
      "metadata": {
        "id": "Nvwz6yXVixtJ"
      },
      "source": [
        "#BruteForce"
      ]
    },
    {
      "cell_type": "code",
      "metadata": {
        "id": "GZXsmbObhILI"
      },
      "source": [
        "def UCLN(x, y):\n",
        "    while (y):\n",
        "        x, y = y, x%y\n",
        "    return x\n"
      ],
      "execution_count": 1,
      "outputs": []
    },
    {
      "cell_type": "code",
      "metadata": {
        "id": "uCVJGjyqg2h6"
      },
      "source": [
        "def Rutgon(a, b):\n",
        "    uoc = UCLN(a, b)\n",
        "    return a/uoc, b/uoc\n"
      ],
      "execution_count": 5,
      "outputs": []
    },
    {
      "cell_type": "code",
      "metadata": {
        "id": "qteNVMSIgWxp"
      },
      "source": [
        "def BruteForce(a, b, c, d):\n",
        "    if (a*d>=b*c):\n",
        "        return 0\n",
        "    dem = 0\n",
        "    while (a*d < b*c):\n",
        "        a+= 1\n",
        "        b+= 1\n",
        "        a, b = Rutgon(a, b)\n",
        "        dem+= 1\n",
        "    if (a*d != b*c):\n",
        "        return 0\n",
        "    return dem\n"
      ],
      "execution_count": 3,
      "outputs": []
    },
    {
      "cell_type": "code",
      "metadata": {
        "colab": {
          "base_uri": "https://localhost:8080/"
        },
        "id": "zYByGBnuih7D",
        "outputId": "41b5779f-448e-4357-a8fa-74d4c4f2d2f6"
      },
      "source": [
        "print(BruteForce(a, b, c, d))"
      ],
      "execution_count": 6,
      "outputs": [
        {
          "output_type": "stream",
          "text": [
            "4\n"
          ],
          "name": "stdout"
        }
      ]
    },
    {
      "cell_type": "code",
      "metadata": {
        "id": "zopSs7Ksi1xi"
      },
      "source": [
        ""
      ],
      "execution_count": null,
      "outputs": []
    }
  ]
}