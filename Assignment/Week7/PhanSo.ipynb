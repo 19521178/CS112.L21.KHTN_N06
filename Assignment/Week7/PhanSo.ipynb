{
  "nbformat": 4,
  "nbformat_minor": 0,
  "metadata": {
    "colab": {
      "name": "PhanSo.ipynb",
      "provenance": []
    },
    "kernelspec": {
      "name": "python3",
      "display_name": "Python 3"
    },
    "language_info": {
      "name": "python"
    }
  },
  "cells": [
    {
      "cell_type": "markdown",
      "metadata": {
        "id": "Ewy_emBuWcaE"
      },
      "source": [
        "#1. Đề bài\n",
        "\n",
        "Cho 2 phân số đúng và tối giản $\\frac{a}{b}$,$\\frac{c}{d}$   . Mỗi phép biến đổi là tăng $a $ và $b$ lên 1, sau đó giản ước phân số nhận được.\n",
        "\n",
        "Hãy xác định sau bao nhiêu bước biến đổi từ phân số thứ nhất ban đầu nhận được phân số thứ 2 đã cho.\n",
        "\n",
        "**Dữ liệu:** Vào từ thiết bị nhập chuẩn gồm 4 dòng, mỗi dòng chứa 1 số nguyên $a, b, c, d,0 < a < b ≤10^5, 0 < c < d ≤ 10^5$, $a$ và $b$ nguyên tố cùng nhau, $c$ và $d$ nguyên tố cùng nhau $\\frac{a}{b}\\neq \\frac{c}{d}$  \n",
        "\n",
        "Kết quả: Đưa ra thiết bị xuất chuẩn số 0 nếu không có cách biến đổi hoặc một số nguyên – số lượng phép biến đổi.\n",
        "\n",
        "\n",
        "* Ví dụ: \n",
        "\n",
        "| Input  | Output |\n",
        "| --- | --- |\n",
        "|1 6 2 3|5 |"
      ]
    },
    {
      "cell_type": "markdown",
      "metadata": {
        "id": "sokBcP36XvBN"
      },
      "source": [
        "# 2. Abstraction\n",
        "Cho 4 số nguyên dương a, b, c, d. Tìm số vòng lặp đến khi $ \\frac{a}{b} = \\frac{c}{d}$ biết sau mỗi vòng lặp $a=\\frac{a+1}{gcd(a+1,b+1)}, b=\\frac{b+1}{gcd(a+1,b+1)}$"
      ]
    },
    {
      "cell_type": "markdown",
      "metadata": {
        "id": "2LgPtpbNYnCe"
      },
      "source": [
        "#3. Pattern Recognition\n",
        "* Dạng toán: \n",
        "    * Vét cạn\n"
      ]
    },
    {
      "cell_type": "markdown",
      "metadata": {
        "id": "IWyBGL5xbu10"
      },
      "source": [
        "# 4. Algorithm Design"
      ]
    },
    {
      "cell_type": "markdown",
      "metadata": {
        "id": "9L-qYMXMeoTk"
      },
      "source": [
        "* Python Code:"
      ]
    },
    {
      "cell_type": "code",
      "metadata": {
        "id": "OEeVHcOCj1fR"
      },
      "source": [
        "a = int(input().strip())\n",
        "b = int(input().strip())\n",
        "c = int(input().strip())\n",
        "d = int(input().strip())"
      ],
      "execution_count": null,
      "outputs": []
    },
    {
      "cell_type": "code",
      "metadata": {
        "id": "GZXsmbObhILI"
      },
      "source": [
        "def UCLN(x, y):\n",
        "    while (y):\n",
        "        x, y = y, x%y\n",
        "    return x\n"
      ],
      "execution_count": null,
      "outputs": []
    },
    {
      "cell_type": "code",
      "metadata": {
        "id": "uCVJGjyqg2h6"
      },
      "source": [
        "def Rutgon(a, b):\n",
        "    uoc = UCLN(a, b)\n",
        "    return a/uoc, b/uoc\n"
      ],
      "execution_count": null,
      "outputs": []
    },
    {
      "cell_type": "code",
      "metadata": {
        "id": "qteNVMSIgWxp"
      },
      "source": [
        "def BruteForce(a, b, c, d):\n",
        "    if (a*d>=b*c):\n",
        "        return 0\n",
        "    dem = 0\n",
        "    while (a*d < b*c):\n",
        "        a+= 1\n",
        "        b+= 1\n",
        "        a, b = Rutgon(a, b)\n",
        "        dem+= 1\n",
        "    if (a*d != b*c):\n",
        "        return 0\n",
        "    return dem\n"
      ],
      "execution_count": null,
      "outputs": []
    },
    {
      "cell_type": "code",
      "metadata": {
        "colab": {
          "base_uri": "https://localhost:8080/"
        },
        "id": "zYByGBnuih7D",
        "outputId": "41b5779f-448e-4357-a8fa-74d4c4f2d2f6"
      },
      "source": [
        "print(BruteForce(a, b, c, d))"
      ],
      "execution_count": null,
      "outputs": [
        {
          "output_type": "stream",
          "text": [
            "4\n"
          ],
          "name": "stdout"
        }
      ]
    },
    {
      "cell_type": "markdown",
      "metadata": {
        "id": "a5WIAKFzer_7"
      },
      "source": [
        "* Độ phức tạp: $O((bc-ad)log(b))$ "
      ]
    }
  ]
}
