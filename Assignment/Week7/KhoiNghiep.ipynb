{
  "nbformat": 4,
  "nbformat_minor": 0,
  "metadata": {
    "colab": {
      "name": "KhoiNghiep.ipynb",
      "provenance": []
    },
    "kernelspec": {
      "name": "python3",
      "display_name": "Python 3"
    },
    "language_info": {
      "name": "python"
    }
  },
  "cells": [
    {
      "cell_type": "markdown",
      "metadata": {
        "id": "hCA66K4-gyL4"
      },
      "source": [
        "#1. Đề bài\n",
        "Sau thời gian làm việc tại nhà (work from home) do tình hình dịch bệnh, công ty $X$ nhận thấy đây là cơ hội để thay đổi mô hình làm việc của công ty để hướng tới tính đơn giản, hiệu quả cao hơn trong công việc. Cụ thể, công ty hiện tại gồm $n$ nhân viên. Có $b$ quan hệ dạng $(a_i, b_i)$ trong đó người $b_i$ nhận công việc từ người $a_i$ và $a_i$ chỉ đạo cho $b_i$. Mỗi nhân viên khi nhận việc có thể phân công cho những nhân viên do mình chỉ đạo. Nếu công viêc từ $a$ có thể tới được $b$, ta gọi $a$ là cấp trên của $b$ và $b$ là cấp dưới của $a$.\n",
        "\n",
        "Sau khi họp đại hội cổ ccông trực tuyến, công ty $X$ quyết định thực hiện tái cấu trúc như sau:\n",
        "\n",
        "* Thứ nhất, chọn ra một giám đốc, người này phải là người không có cấp trên và công việc mà người này phân công có thể tới được mọi người trong công ty;\n",
        "* Những người còn lại, mỗi người sẽ chỉ còn nhận việc trực tiếp từ đúng 1 người. Để tránh xáo trộn trong hoạt động sau khi thực hiện thay đổi, với mỗi người, tập những người là cấp trên của người đó phải không thay đổi (so với trước khi thực hiện tái cấu trúc).\n",
        "\n",
        "**Yêu cầu:** Xác định công ty $X$ có thể tái cấu trúc hay không, nếu không được - đưa ra thông báo $“No”$. Trong trường hợp có thể – đưa ra thông báo $“Yes”$ và chỉ ra dãy số $p_i$ xác định người có quyền phân công công việc cho người $i$ $(1 ≤ i ≤ n)$. Với Giám đốc $p_i$ tương ứng có giá trị là $-1$.\n",
        "\n",
        "**Dữ liệu:** Vào từ file thiết bị nhập chuẩn:\n",
        "\n",
        "Dòng đầu tiên chứa 2 số nguyên $n$ và $m$ $1 ≤ n, (m ≤ 5×10^5)$,\n",
        "Dòng thứ $i$ trong $m$ dòng sau chứa 2 số nguyên $a_i$ và $b_i$ $(1 ≤ a_i, b_i ≤ n, a_i ≠ b_i)$.\n",
        "Kết quả: Đưa ra thiết bị xuất chuẩn thông báo $“No”$ hoặc $“Yes”$. Nếu kết quả là $“Yes”$ – trên dòng thứ 2 đưa ra $n$ số nguyên $p_1, p_2, . . ., p_n$ tương ứng.\n",
        "\n",
        "\n",
        "* Ví dụ: \n",
        "\n",
        "| Input  | Output |\n",
        "| --- | --- |\n",
        "|3 3|Yes |\n",
        "|1 2| |\n",
        "|2 3|-1 1 2 |\n",
        "|1 3| |\n",
        "|---  |---|\n",
        "|4 4|No|\n",
        "|1 2||\n",
        "|1 3||\n",
        "|2 4||\n",
        "|3 4||"
      ]
    },
    {
      "cell_type": "markdown",
      "metadata": {
        "id": "yxh-nT2sg-oh"
      },
      "source": [
        "#2. Abstraction"
      ]
    },
    {
      "cell_type": "markdown",
      "metadata": {
        "id": "Eot6f0MbhGQf"
      },
      "source": [
        "Cho một đồ thị có hướng, xác định liệu đây có phải là một cây chỉ có một gốc và liệu có thể biến nó thành một cây nhánh này không đụng nhánh kia. Xuất node cha của mỗi node."
      ]
    },
    {
      "cell_type": "markdown",
      "metadata": {
        "id": "VDWyjktxhyCx"
      },
      "source": [
        "#3. Pattern Recognition"
      ]
    },
    {
      "cell_type": "markdown",
      "metadata": {
        "id": "J6c4j0Heh37f"
      },
      "source": [
        "Cây của đồ thị vô hướng"
      ]
    },
    {
      "cell_type": "markdown",
      "metadata": {
        "id": "LuD8Gjq0h7rH"
      },
      "source": [
        "#4. Decomposition"
      ]
    },
    {
      "cell_type": "markdown",
      "metadata": {
        "id": "CCaiZ27Th98h"
      },
      "source": [
        "* Xác định không có chu trình\n",
        "* Xác định chỉ có 1 gốc\n",
        "* Với mỗi node, rút gọn đi nhánh thừa nếu có thể."
      ]
    },
    {
      "cell_type": "markdown",
      "metadata": {
        "id": "y3DI5alUv8hd"
      },
      "source": [
        "#5. Algorithm Design"
      ]
    },
    {
      "cell_type": "markdown",
      "metadata": {
        "id": "nSPsg0S2wBYU"
      },
      "source": [
        "* Ta đổi chiều của từng cạnh, để dễ dàng tìm ra điểm gốc là điểm không nối đến phần tử nào cả. Nếu có 0 điểm gốc -> đồ thị là một chu trình kín; Nếu có nhiều hơn 1 điểm gốc -> Kết thúc chương trình.\n",
        "* Với những node có từ 2 điểm cận trở lên, nghĩa là điểm đó đang bị giao giữa nhiều nhánh. Thực hiện DFS lên các điểm cận của các điểm đó, nếu như có nhánh chứa đầy đủ các điểm cận thì điểm này có thể rút gọn nhánh. Nếu không thỏa thì xác định cây chúng ta có 2 nhánh giao nhau không thể rút gọn\n"
      ]
    },
    {
      "cell_type": "markdown",
      "metadata": {
        "id": "ZwfsjYPOxQrt"
      },
      "source": [
        "Python code:"
      ]
    },
    {
      "cell_type": "code",
      "metadata": {
        "id": "D3HI442bgn6x"
      },
      "source": [
        "n, m = [int(x) for x in input().strip().split()]\n",
        "graph = dict([str(x), []] for x in range(1, n+1))\n",
        "for _ in range(m):\n",
        "    u, v = input().split()\n",
        "    if (int(u)<1):\n",
        "        continue\n",
        "    if (int(v)<1): \n",
        "        continue\n",
        "    if (int(u)>n):\n",
        "        continue\n",
        "    if (int(v)>n):\n",
        "        continue\n",
        "    graph[v].append(u)\n",
        "tree = dict()\n",
        "def DFS(value, graph):\n",
        "    to_visited = set(graph[value])\n",
        "    visited = set(value)\n",
        "    while (len(to_visited)>0):\n",
        "        node = to_visited.pop()\n",
        "        if node not in visited:\n",
        "            visited.add(node)\n",
        "            if (node in graph):\n",
        "                to_visited.update(graph[node])\n",
        "        else:\n",
        "            return set('-1')\n",
        "    return set(visited)\n",
        "def ALO(graph):\n",
        "    count0 = 0\n",
        "    count2 = []\n",
        "    for label, vals in graph.items():\n",
        "        leg = len(vals)\n",
        "        if (leg==0):\n",
        "            count0+=1\n",
        "        elif (leg > 1):\n",
        "            count2.append(label)\n",
        "    if (count0>1 or count0==0):\n",
        "        print('No')\n",
        "        return\n",
        "    for threat in count2:\n",
        "        check = False\n",
        "        for needvisit in graph[threat]:\n",
        "            dfs = DFS(needvisit, graph)\n",
        "            if (dfs == set('-1')):\n",
        "                print('No')\n",
        "                return \n",
        "            if len(set(graph[threat])-dfs)==0:\n",
        "                check = True\n",
        "                graph[threat] = [needvisit]\n",
        "        if check == False:\n",
        "            print('No')\n",
        "            return\n",
        "    print('Yes')\n",
        "    for x in graph:\n",
        "        if len(graph[x])==0:\n",
        "            print(-1, end=' ')\n",
        "        else:\n",
        "            print(graph[x][0], end=' ')\n",
        "ALO(graph)"
      ],
      "execution_count": null,
      "outputs": []
    },
    {
      "cell_type": "markdown",
      "metadata": {
        "id": "sHJrwzXmxR-c"
      },
      "source": [
        "Độ phức tạp: $O(n^2)$"
      ]
    }
  ]
}