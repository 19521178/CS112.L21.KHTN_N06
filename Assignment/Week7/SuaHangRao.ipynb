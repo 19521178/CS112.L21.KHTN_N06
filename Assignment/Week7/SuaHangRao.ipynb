{
  "nbformat": 4,
  "nbformat_minor": 0,
  "metadata": {
    "colab": {
      "name": "SuaHangRao.ipynb",
      "provenance": []
    },
    "kernelspec": {
      "name": "python3",
      "display_name": "Python 3"
    },
    "language_info": {
      "name": "python"
    }
  },
  "cells": [
    {
      "cell_type": "markdown",
      "metadata": {
        "id": "Ewy_emBuWcaE"
      },
      "source": [
        "#1. Đề bài\n",
        "\n",
        "Sau khi dựng xong nhà kho chứa cỏ, dì Poly quyết định dùng m tấm gỗ còn thừa gia cố hàng rào của vườn rau ngăn không cho gà vào phá và giao công việc này cho Tôm và Hấc Phin làm. Nhiệm vụ của hai cậu bé tội nghiệp là đóng thêm vào các tấm ván hàng rào để có hàng rào mới càng cao càng tốt. Nhìn vẽ mặt buồn thiu và lóng ngóng của 2 đứa Jim quyết định sẽ làm giúp. Hàng rào được ghép từ n tấm gỗ cùng độ rộng như nhau và bằng độ rộng của các tấm gỗ còn thừa, tấm thứ i có độ cao $a_i, i = 1 ÷ n$. Tôm và Hấc Phin chỉ phải xếp các tấm còn thừa lên xe ba gác để Jim kéo đi. Các tấm gỗ được xếp thành một chồng, tính từ trên xuống tấm thứ $j$ có độ dài $b_j, j = 1 ÷ m$. Jim kéo xe ba gác đi dọc theo hàng rào. Đến một tấm nào đó muốn gia cố Jim sẽ lấy một tấm gỗ từ xe đóng tiếp lên tấm gỗ trên hàng rào và độ cao mới của tấm này trên hàng rào sẽ là tổng độ cao của tấm cũ và tấm mới đóng thêm. Jim chỉ đóng thêm một tấm mới vào tấm cũ vì muốn đảm bảo độ chắc chắn của hàng rào. Jim có thể lấy tấm trên cùng ở xe hoặc vất ra khỏi xe một số tấm cho đến khi gặp tấm vừa ý. Người ta vẫn nói “Khôn đâu tới trẻ, khỏe đâu tới già!”  Jim đã đứng tuổi và không còn sức để xếp lại các tấm gỗ bị bỏ ra vào xe. Ngoài ra, Jim cũng khá mê tín nên không quay lại lấy những tấm đã loại.\n",
        "\n",
        "Hãy xác định độ cao lớn nhất có thể đạt được của hàng rào sau khi gia cố. Độ cao của hàng rào được tính bằng độ cao tấm gỗ thấp nhất trên hàng rào.\n",
        "\n",
        "**Dữ liệu:** Vào từ thiết bị nhập chuẩn:\n",
        "\n",
        "* Dòng đầu tiên chứa số nguyên $n (1 ≤ n ≤ 10^5)$,\n",
        "* Dòng thứ 2 chứa $n$ số nguyên $a_1, a_2, . . ., a_n (1 ≤ a_i ≤ 10^8, i = 1 ÷ n)$,\n",
        "* Dòng thứ 3 chứa số nguyên $m  (1 ≤ m ≤ 10^5)$,\n",
        "* Dòng cuối cùng chứ $m$ số nguyên $b_1, b_2, . . ., b_m (1 ≤ b_j ≤ 10^8, j = 1÷ m)$.\n",
        "Kết quả: Đưa ra thiết bị xuất chuẩn, dòng đầu tiên chứa 2 số nguyên $h$ và $k$ – độ cao lớn nhất có thể của hàng rào và số tấm gỗ đã được đóng thêm, mỗi dòng trong $k$ dòng tiếp theo chứa 2 số nguyên $x$ và $y$, trong đó $x$ – tấm gỗ trên hàng rào được đóng cao hơn, $y$ – tấm gỗ được dùng để đóng. Đưa ra phương án có các số hiệu tấm ván được chọn là nhỏ nhất nếu tồn tại nhiều cách đóng khác nhau.\n",
        "\n",
        "\n",
        "* Ví dụ: \n",
        "\n",
        "| Input  | Output |\n",
        "| --- | --- |\n",
        "|6|5 3|\n",
        "|2 5 4 1 7 5|1 2|\n",
        "|7|3 3|\n",
        "|2 3 1 3 2 4 6|4 6|"
      ]
    },
    {
      "cell_type": "markdown",
      "metadata": {
        "id": "sokBcP36XvBN"
      },
      "source": [
        "# 2. Abstraction\n",
        "Kết hợp một vài phần tử mảng A với một vài phần tử mảng B theo thứ tự, sao cho phần tử nhỏ nhất của mảng kết hợp lớn nhất có thể."
      ]
    },
    {
      "cell_type": "markdown",
      "metadata": {
        "id": "2LgPtpbNYnCe"
      },
      "source": [
        "#3. Pattern Recognition\n",
        "* Dạng toán: \n",
        "    * Chia để trị\n",
        "* Đặc điểm nhận dạng:\n",
        "    * Giá trị phần tử nhỏ nhất sau khi kết hợp (ngưỡng) sẽ thuộc khoảng [min(A), min(A)+max(B)]\n"
      ]
    },
    {
      "cell_type": "markdown",
      "metadata": {
        "id": "IWyBGL5xbu10"
      },
      "source": [
        "# 4. Algorithm Design"
      ]
    },
    {
      "cell_type": "markdown",
      "metadata": {
        "id": "0kE26PHHSTaw"
      },
      "source": [
        "* Tìm ngưỡng bằng phương pháp chia để trị với điều kiện dịch trái:\n",
        "    * Đối với mỗi phần tử A nhỏ hơn ngưỡng, nếu mọi phần tử B cộng với phần tử A nhỏ hơn ngưỡng thì ngưỡng cần giảm.\n",
        "* Khi đã có được ngưỡng thì với mọi phần tử A nhỏ hơn ngưỡng, kết hợp với phần tử B (không lặp lại) mà tổng của chúng không nhỏ hơn ngưỡng."
      ]
    },
    {
      "cell_type": "markdown",
      "metadata": {
        "id": "9L-qYMXMeoTk"
      },
      "source": [
        "* Python Code:"
      ]
    },
    {
      "cell_type": "code",
      "metadata": {
        "id": "oeDog4v8ojFH"
      },
      "source": [
        "n = int(input())\n",
        "A = [int(x) for x in input().split()]\n",
        "m = int(input())\n",
        "B = [int(x) for x in input().split()]\n",
        "max_thresh = min(A) + max(B)\n",
        "min_thresh = min(A)\n",
        "def NeedDesc(mid):\n",
        "    j = 0\n",
        "    for a in A:\n",
        "        if (a<mid):\n",
        "            allBsmall = True\n",
        "            while (j<m):\n",
        "                if (a + B[j] >= mid):\n",
        "                    allBsmall = False\n",
        "                    j += 1\n",
        "                    break\n",
        "                j+=1\n",
        "            if (allBsmall):\n",
        "                return True \n",
        "    return False\n",
        "def FindThresh(l, r):\n",
        "    while (l<=r):\n",
        "        mid = (l + r)//2\n",
        "        if (NeedDesc(mid)):\n",
        "            r = mid - 1\n",
        "        else:\n",
        "            l = mid + 1\n",
        "    return r\n",
        "def print_res(thresh):\n",
        "    ans = []\n",
        "    j = 0\n",
        "    for i in range(n):\n",
        "        if (A[i]<thresh):\n",
        "            while (j<m):\n",
        "                if (A[i] + B[j] >= thresh):\n",
        "                    ans.append((i+1, j+1))\n",
        "                    j+=1\n",
        "                    break\n",
        "                else:\n",
        "                    j+=1\n",
        "    print(thresh, len(ans))\n",
        "    for x in ans:\n",
        "        print(x[0], x[1])\n",
        "print_res(FindThresh(min_thresh, max_thresh))\n",
        "            "
      ],
      "execution_count": null,
      "outputs": []
    },
    {
      "cell_type": "markdown",
      "metadata": {
        "id": "a5WIAKFzer_7"
      },
      "source": [
        "* Độ phức tạp: $O(m*log(max(B))$ "
      ]
    }
  ]
}