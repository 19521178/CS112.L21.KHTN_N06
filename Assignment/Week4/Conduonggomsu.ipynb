{
  "nbformat": 4,
  "nbformat_minor": 0,
  "metadata": {
    "colab": {
      "name": "Conduonggomsu.ipynb",
      "provenance": []
    },
    "kernelspec": {
      "name": "python3",
      "display_name": "Python 3"
    },
    "language_info": {
      "name": "python"
    }
  },
  "cells": [
    {
      "cell_type": "markdown",
      "metadata": {
        "id": "m9_8YMolZfFP"
      },
      "source": [
        "#1. Đề bài"
      ]
    },
    {
      "cell_type": "markdown",
      "metadata": {
        "id": "cK1fN_ueZmYv"
      },
      "source": [
        "Sau khi bê tông hóa đê chống lụt, thành phố quyết định cho khảm lên tường bê tông của đê tranh ghép tạo bởi các mảnh gốm sứ lấy từ các lò gốm nổi tiếng trong nước. Toàn bộ con đê được chia thành n phần có độ rộng giống nhau, mỗi phần gọi là một lô. Mỗi bức tranh khảm trên đó đều phải có độ rộng giống nhau, tức là bao gồm một số như nhau các lô liên tiếp và toàn bộ tường phải được phủ kín tranh từ đầu đến cuối, mỗi lô phải được tạo màu chủ đạo (gọi là màu của lô) từ một loại gốm đặc trưng lấy từ một lò gốm nào đó trong nước, ví dụ gốm màu xanh Cô ban từ lò gốm Ánh Hồng Quảng Ninh, gốm da lươn – từ Bát Tràng Hà Nội, gốm mộc hồng nhạt – từ Biên Hòa Đồng Nai, . . . Các loại gốm này được đánh số từ 1 đến 50 000.\n",
        "\n",
        "Hướng dẫn viên du lịch giới thiệu với khách tham quan là có 2 nhóm nghệ nhân được giao việc tạo hình và khảm tranh. Với mỗi nhóm các bức tranh của đều được đặc trưng bởi dãy số $(c_1, c_2, . . ., c_k)$, trong đó $k$ là độ rộng của tranh, $c_i$ – màu của lô, $i = 1 ÷ k$, các bức tranh khác nhau có thể khác nhau ở trình tự xuất hiện màu của các lô, ví dụ với dãy số đặc trưng (2, 6, 2, 9), trình tự màu trong tranh có thể là (9, 2, 2, 6) hoặc (6, 9, 2, 2) nhưng không thể là (6, 9, 2, 3). Dãy đặc trưng của 2 nhóm là khác nhau, tức là không thể bằng phép hoán vị trình tự màu của lô để đưa một dãy về dãy kia. Các bức tranh được ghép với nhau rất hài hòa và khách tham quan không nhận biết được sự chuyển tiếp từ tranh này sang tranh khác. Tuy vậy nhiều khách tham quan vẫn muốn biết có bao nhiêu bức tranh đã tạo ra và trong đó số bức tranh của mỗi nhóm là bao nhiêu.\n",
        "\n",
        "Hãy xác định số lượng tranh có thể có và số lượng tranh mỗi nhóm đã làm. biết rằng nhóm nào cũng có tranh của mình.\n",
        "\n",
        "* Dữ liệu:\n",
        "\n",
        "    * Dòng đầu tiên chứa một số nguyên $n$ – số lượng lô của con đê $(2 ≤ n ≤ 105)$\n",
        "    * Dòng thứ 2 chứa $n$ số nguyên $a_1, a_2, . . ., a_n$ – màu của các lô $(1 ≤ a_i ≤ 50 000, i = 1 ÷ n)$.\n",
        "\n",
        "* Kết quả: dòng đầu tiên chứa số nguyên $m$ – số lượng phương án khác nhau chia con đường thành các bức tranh, nếu không có cách phân chia để đảm bảo phân biệt tranh của đúng 2 nhóm thì đưa ra số -1. Nếu có cách phân biệt thì ở mỗi dòng tiếp theo đưa ra 3 số nguyên $k$, $p$ và $q$ – độ rộng bức tranh, số tranh do nhóm 1 thực hiện và số tranh do nhóm 2 thực hiện, thông tin đưa ra theo thứ tự tăng dần của $k$ và ở mỗi dòng có $p ≥ q > 0$.\n",
        "\n",
        "* Ví dụ:\n",
        "\n",
        "| Input | Output |\n",
        "| --- | --- |\n",
        "| 9 | 1 |\n",
        "|1 2 3 6 4 9 3 1 2 | 3 2 1 |"
      ]
    },
    {
      "cell_type": "markdown",
      "metadata": {
        "id": "rYfC5O3gZpWv"
      },
      "source": [
        "#2. Abstraction"
      ]
    },
    {
      "cell_type": "markdown",
      "metadata": {
        "id": "8ZA4ZWKCZrGP"
      },
      "source": [
        "Chia một dãy thành các đoạn liên tiếp cùng độ dài, các đoạn được chia làm 2 loại, các đoạn cùng một loại nếu là hoán vị của nhau. Tìm số cách chia, độ dài mỗi đoạn và số đoạn mỗi loại."
      ]
    },
    {
      "cell_type": "markdown",
      "metadata": {
        "id": "IDQehf3GaXip"
      },
      "source": [
        "#3. Pattern Recognition"
      ]
    },
    {
      "cell_type": "markdown",
      "metadata": {
        "id": "qrLRSI6Qabag"
      },
      "source": [
        "Duyệt trên các mảng con có phần tử bằng nhau"
      ]
    },
    {
      "cell_type": "markdown",
      "metadata": {
        "id": "AshoG7xCa5eA"
      },
      "source": [
        "#4. Algorithm Design"
      ]
    },
    {
      "cell_type": "markdown",
      "metadata": {
        "id": "0gjK0srJa8wv"
      },
      "source": [
        "* Tìm các k là ước của n\n",
        "* Với mỗi k:\n",
        "    * Tạo ra 2 khung có độ dài bằng k\n",
        "    * Chia mảng ban đầu thành n/k mảng con có độ dài k\n",
        "    * Duyệt trên từng mảng con, thực hiện theo thứ tự :\n",
        "        * Nếu khung A rỗng, A = mảng con đó.\n",
        "        * Nếu mảng con là hoán vị của A, tăng biến đếm số lượng mảng con giống A.\n",
        "        * Nếu khung B rỗng, B = mảng con đó.\n",
        "        * Nếu mảng con là hoán vị của B, tăng biến đếm b\n",
        "        * Nếu tất cả điều kiện trên không thỏa, kết thúc vòng lặp và không công nhận đây là một trong các kết quả."
      ]
    },
    {
      "cell_type": "markdown",
      "metadata": {
        "id": "6Eu9w6DhemCM"
      },
      "source": [
        "Python code:"
      ]
    },
    {
      "cell_type": "code",
      "metadata": {
        "id": "BphFYGjJZZXM"
      },
      "source": [
        "import math\n",
        "\n",
        "n = int(input())\n",
        "arr = [int(x) for x in input().split()]\n",
        "final=[]\n",
        "div=[n]\n",
        "for i in range(2, int(math.sqrt(n)) + 1):\n",
        "    if n % i == 0:\n",
        "        div.append(i)\n",
        "        div.append(int(n/i))\n",
        "div = list(set(div))\n",
        "div.sort(reverse=True)\n",
        "for i in div:\n",
        "    p=0\n",
        "    q=0\n",
        "    divNum=int(n/i)\n",
        "    team2=[]\n",
        "    for j in range (0,i):\n",
        "        if sorted(arr[0:divNum]) == sorted(arr[divNum*j:divNum*(j+1)]):\n",
        "            p+=1\n",
        "        else:\n",
        "            if (team2 and sorted(arr[divNum*j:divNum*(j+1)]) != sorted(team2)):\n",
        "                q = 0\n",
        "                break\n",
        "            elif not team2:\n",
        "                team2 = arr[divNum*j:divNum*(j+1)]\n",
        "            q+=1\n",
        "    if q!=0:\n",
        "        final.append([divNum,p,q])\n",
        "        \n",
        "if len(final)==0:\n",
        "    print(-1)\n",
        "else:\n",
        "    print(len(final))\n",
        "    for i in final:\n",
        "        print (*i)"
      ],
      "execution_count": null,
      "outputs": []
    },
    {
      "cell_type": "markdown",
      "metadata": {
        "id": "koRPRk9ber7p"
      },
      "source": [
        "Độ phức tạp: $O(n)$"
      ]
    }
  ]
}