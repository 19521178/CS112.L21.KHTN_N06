{
  "nbformat": 4,
  "nbformat_minor": 0,
  "metadata": {
    "colab": {
      "name": "H-index.ipynb",
      "provenance": [],
      "collapsed_sections": []
    },
    "kernelspec": {
      "name": "python3",
      "display_name": "Python 3"
    },
    "language_info": {
      "name": "python"
    }
  },
  "cells": [
    {
      "cell_type": "markdown",
      "metadata": {
        "id": "e4SOLqTfnIHW"
      },
      "source": [
        "Problem:\n",
        "Làm thế nào để đánh giá sự thành công của một nhà khoa học?  Dựa vào số bài báo được công bố hay dựa vào số lần một bài báo được trích dẫn tới ở công trình của những người khác? Cả hai tham số đó đều quan trọng.\n",
        "\n",
        "Một bài báo có điểm số trích dẫn là c nếu nó được trích dẫn tới c lần trong các công trình của những nhà khoa học khác. Một trong số các cách đánh giá sự thành công của một nhà khoa học là tính chỉ số ảnh hưởng H_Index dựa trên sự kết hợp giữa số lượng bài báo và chỉ số trích dẫn của các bài báo đó.\n",
        "\n",
        "Chỉ số H_Index của một nhà khoa học bằng k lớn nhất nếu người đó có k bài báo, mỗi bài có điểm số trích dẫn không nhỏ hơn k. Ví dụ, một người có 10 bài báo, mỗi bài báo được trích dẫn không dưới 10 lần thì H_Index của người đó ít nhất là bằng 10.\n",
        "\n",
        "Một người có n bài báo, bài báo thứ i có điểm trích dẫn là ci, i = 1 ÷ n. Hãy xác định H_Index của người đó.\n",
        "\n",
        "Dữ liệu: Vào từ thiết bị nhập chuẩn:\n",
        "\n",
        "Dòng đầu tiên chứa một số nguyên n (1 ≤ n ≤ 5×105),\n",
        "Dòng thứ 2 chứa n số nguyên c1, c2, . . ., cn (0 ≤ ci ≤ 106, i = 1 ÷ n).\n",
        "Kết quả: Đưa ra thiết bị xuất chuẩn một số nguyên – H_Index tìm được.\n",
        "\n"
      ]
    },
    {
      "cell_type": "markdown",
      "metadata": {
        "id": "B095Mcmhn8HH"
      },
      "source": [
        "1. Decomposition:\n",
        "\n",
        "2. Abstraction:\n",
        "\n",
        ">Nhập vào dòng đầu tiên 1 số n (1 ≤ n ≤ 5×105), dòng thứ 2 là mảng chứa n số nguyên c1, c2, . . ., cn (0 ≤ ci ≤ 106, i = 1 ÷ n). Xuất ra số nguyên H-index với H-index là số phần tử có giá trị không nhỏ hơn n.\n",
        "\n",
        "3. Pattern Recognition:\n",
        "\n",
        "4 Algorithm Design:"
      ]
    },
    {
      "cell_type": "code",
      "metadata": {
        "id": "x6FgHHJNsROZ"
      },
      "source": [
        "n= int(input())\n",
        "arr=input()\n",
        "arr=arr.split(' ')\n",
        "arr=[]\n",
        "for i in range(len(arr)):\n",
        "        arr.append(int(arr[i]))\n",
        "arr.sort()\n",
        "\n",
        "def Duyet(arr,n):\n",
        "    for i in reversed(range(n)):\n",
        "        if int(arr[i])==n-i:\n",
        "            return n-i\n",
        "        if int(arr[i])<n-i:\n",
        "            return n-1-i\n",
        "        \n",
        "print (Duyet(arr,n))\n"
      ],
      "execution_count": null,
      "outputs": []
    }
  ]
}
