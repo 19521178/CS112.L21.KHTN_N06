{
  "nbformat": 4,
  "nbformat_minor": 0,
  "metadata": {
    "colab": {
      "name": "DoiMoi.ipynb",
      "provenance": [],
      "collapsed_sections": [],
      "toc_visible": true
    },
    "kernelspec": {
      "name": "python3",
      "display_name": "Python 3"
    },
    "language_info": {
      "name": "python"
    }
  },
  "cells": [
    {
      "cell_type": "markdown",
      "metadata": {
        "id": "Ewy_emBuWcaE"
      },
      "source": [
        "#1. Đề bài\n",
        "Thành phố quyết định chặt hạ hết $n$ cây xanh hiện có trong thành phố để trồng chỉ một loại cây mới. Nhiệm vụ được giao cho Công ty Cây xanh thành phố. Do hạn chế về thiết bị Công ty chỉ tổ chức được 2 đội đốn hạ cây. Đội $I$ hạ được a cây mỗi ngày, nhưng cứ mối ngày thứ $k$ thì phải nghỉ để bảo dưỡng kỹ thuật, tức là đội $I$ sẽ nghỉ vào các ngày $k$, $2k$, $3k$, . . . Đội $II$ hạ được $b$ cây mỗi ngày, nhưng cứ mỗi ngày thứ $m$ thì phải nghỉ để bảo dưỡng kỹ thuật, tức là đội $II$ sẽ nghỉ vào các ngày $m$, $2m$, $3m$, . . . Ở ngày nghỉ, số cây chặt hạ của đội sẽ là $0$. Cả hai đội bắt đầu công việc vào cùng một ngày và làm việc song song với nhau.\n",
        "\n",
        "Công việc trồng cây mới sẽ bắt đầu sau khi toàn bộ cây cũ đã bị đốn hạ.\n",
        "\n",
        "Hãy xác định sau bao nhiêu ngày thì có thể bắt đầu việc trồng mới cây.\n",
        "\n",
        "Dữ liệu: Vào từ thiết bị nhập chuẩn gồm một dòng chứa 5 số nguyên $a$, $k$, $b$, $m$ và $n$ $(1 ≤ a, b ≤ 10^9, 2 ≤ k, m ≤ 10^{18}, 1 ≤ n ≤ 10^{18})$.\n",
        "\n",
        "Kết quả: Đưa ra thiết bị xuất chuẩn một số nguyên – số ngày tính được.\n",
        "\n",
        "* Ví dụ: \n",
        "\n",
        "| Input  | Output |\n",
        "| --- | --- |\n",
        "|2 4 3 3 25| 7|"
      ]
    },
    {
      "cell_type": "markdown",
      "metadata": {
        "id": "sokBcP36XvBN"
      },
      "source": [
        "# 2. Abstraction\n",
        "Cho $a$, $k$, $b$, $m$, $n$, tìm $d$ nhỏ nhất thỏa:\n",
        "     $$n - (d * (a+b) - (d // k) * a - (d//m)*b) ≤ 0 $$"
      ]
    },
    {
      "cell_type": "markdown",
      "metadata": {
        "id": "2LgPtpbNYnCe"
      },
      "source": [
        "#3. Pattern Recognition\n",
        "* Dạng toán: \n",
        "    * Vét cạn\n",
        "    * Cần cải tiến xác định điểm bắt đầu vét gần kết quả hơn bằng \n",
        "$n//(a+b)$\n",
        "\n",
        "* Đặc điểm nhận dạng:\n",
        "    * Lần lượt thử $d$ xem có thỏa đề hay không\n",
        "    * Cải tiến theo cách đó vì $ (n//(a+b)) ≤ d_{min}$"
      ]
    },
    {
      "cell_type": "markdown",
      "metadata": {
        "id": "IWyBGL5xbu10"
      },
      "source": [
        "# 4. Algorithm Design"
      ]
    },
    {
      "cell_type": "markdown",
      "metadata": {
        "id": "BK_sLL_iPkoT"
      },
      "source": [
        "## 1. Vét cạn cơ bản\n",
        "Đặt thêm 1 biến $t $ có ý nghĩa tương đương $$(d * (a+b) - (d // k) * a - (d//m)*b)$$\n",
        "Cho $d$ chạy với start = 1, step = 1, $t$ tương ứng tăng $a$, $b$, $(a+b)$ hoặc không tăng. Dừng khi $n ≤ t $"
      ]
    },
    {
      "cell_type": "markdown",
      "metadata": {
        "id": "dk3hiM6USKja"
      },
      "source": [
        "* Python Code:"
      ]
    },
    {
      "cell_type": "code",
      "metadata": {
        "id": "CNd_gpzjRWmL"
      },
      "source": [
        "def Base(a, k, b, m ,n):\n",
        "    start_day, start_tree = TinhCan(a, k,b, m, n)\n",
        "    start_day = start_day - 1\n",
        "    while(n>start_tree):\n",
        "        start_day = start_day + 1\n",
        "        if (start_day % k != 0):\n",
        "            start_tree = start_tree + a\n",
        "        if (start_day % m != 0):\n",
        "            start_tree = start_tree + b\n",
        "    return start_day"
      ],
      "execution_count": null,
      "outputs": []
    },
    {
      "cell_type": "markdown",
      "metadata": {
        "id": "xhrLchp_SOJx"
      },
      "source": [
        "* Độ phức tạp: $O(n)$"
      ]
    },
    {
      "cell_type": "markdown",
      "metadata": {
        "id": "0kE26PHHSTaw"
      },
      "source": [
        "##2. Vét cạn cải tiến\n",
        "Ta cũng đặt thêm 1 biến $t$ giống trên.\n",
        "Cho d chạy từ $(n//(a+b))$, step = $((n-t)//(a+b)+1)$. Dừng khi $n ≤ t $\n",
        "\n",
        "Phòng trường hợp $d = d_{min}+1$, thiết kế thêm 1 biến $last_t$ tương ứng với $t_{d} - t_{d-1}$ để xét thử có gặp phải trường hợp trên. Nếu đúng thì $d = d-1$."
      ]
    },
    {
      "cell_type": "markdown",
      "metadata": {
        "id": "9L-qYMXMeoTk"
      },
      "source": [
        "* Python Code:"
      ]
    },
    {
      "cell_type": "code",
      "metadata": {
        "id": "qbSGZILZ28wP"
      },
      "source": [
        "def Enhance(a, k, b, m ,n):\n",
        "    day = n//(a+b)\n",
        "    while 1:\n",
        "        n_k = day//k\n",
        "        n_m = day//m\n",
        "        tree = day * (a+b) - n_k * a - n_m * b\n",
        "        lastday_tree = a + b\n",
        "        if (day%k==0):\n",
        "            lastday_tree -= a\n",
        "        if (day%m ==0):\n",
        "            lastday_tree -= b\n",
        "        \n",
        "        if (tree < n):\n",
        "            day += (n-tree)//(a+b) +1\n",
        "        elif (tree - n < lastday_tree):\n",
        "            return day\n",
        "        elif (tree - n >= lastday_tree):\n",
        "            return day-1\n",
        "a, k, b, m, n = [int(x) for x in input().split()]\n",
        "print(Tinhtoan(a, k, b, m ,n))"
      ],
      "execution_count": null,
      "outputs": []
    },
    {
      "cell_type": "markdown",
      "metadata": {
        "id": "a5WIAKFzer_7"
      },
      "source": [
        "* Độ phức tạp: $O(logn)$ "
      ]
    }
  ]
}
