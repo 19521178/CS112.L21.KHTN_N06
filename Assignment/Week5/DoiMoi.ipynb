{
  "nbformat": 4,
  "nbformat_minor": 0,
  "metadata": {
    "colab": {
      "name": "DoiMoi.ipynb",
      "provenance": []
    },
    "kernelspec": {
      "name": "python3",
      "display_name": "Python 3"
    },
    "language_info": {
      "name": "python"
    }
  },
  "cells": [
    {
      "cell_type": "markdown",
      "metadata": {
        "id": "f5pkvscuwzFu"
      },
      "source": [
        "# Đổi mới\n",
        "\n",
        "Đề bài : Thành phố quyết định chặt hạ hết n cây xanh hiện có trong thành phố để trồng chỉ một loại cây mới. Nhiệm vụ được giao cho Công ty Cây xanh thành phố. Do hạn chế về thiết bị Công ty chỉ tổ chức được 2 đội đốn hạ cây. Đội I hạ được a cây mỗi ngày, nhưng cứ mối ngày thứ k thì phải nghỉ để bảo dưỡng kỹ thuật, tức là đội I sẽ nghỉ vào các ngày $k, 2k, 3k,...$ Đội II hạ được b cây mỗi ngày, nhưng cứ mỗi ngày thứ m thì phải nghỉ để bảo dưỡng kỹ thuật, tức là đội II sẽ nghỉ vào các ngày $m, 2m, 3m,...$ Ở ngày nghỉ, số cây chặt hạ của đội sẽ là 0. Cả hai đội bắt đầu công việc vào cùng một ngày và làm việc song song với nhau.\n",
        "\n",
        "Công việc trồng cây mới sẽ bắt đầu sau khi toàn bộ cây cũ đã bị đốn hạ.\n",
        "\n",
        "Hãy xác định sau bao nhiêu ngày thì có thể bắt đầu việc trồng mới cây.\n",
        "\n",
        "Dữ liệu: Vào từ thiết bị nhập chuẩn gồm một dòng chứa 5 số nguyên $a, k, b, m$ và $n$ $(1 ≤ a, b ≤ 10^9, 2 ≤ k, m ≤ 10^{18}, 1 ≤ n ≤ 10^{18})$.\n",
        "\n",
        "Kết quả: Đưa ra thiết bị xuất chuẩn một số nguyên – số ngày tính được."
      ]
    },
    {
      "cell_type": "markdown",
      "metadata": {
        "id": "Bv651J5nxSH7"
      },
      "source": [
        "# 1. Decomposition\n",
        "\n",
        "# 2. Abstraction\n",
        "Tìm số vòng lặp i với mỗi vòng lặp thứ i:\n",
        "*   Với i không chia hết cho k thì t+=a\n",
        "*   Với i không chia hết cho m thì t+=b\n",
        "*   Điều kiện dừng: t>=n\n",
        "\n",
        "\n",
        "# 3. Patter Recognition\n",
        "Bài toán sử dụng Brute Force để chạy vòng lặp cho đến khi thỏa điều kiện\n",
        "\n",
        "# 4. Algorithm Design\n",
        "\n",
        "\n",
        "> # 4.1 Sử dụng Brute Force chạy từ đầu\n",
        "\n",
        "Cho t=0, với t < n ta xét vòng lặp thứ i:\n",
        "*   Với i không chia hết cho k thì t+=a\n",
        "*   Với i không chia hết cho m thì t+=b\n",
        "\n",
        "Kết thúc ta in ra số vòng lặp.\n",
        "\n",
        "Nhược điểm: Độ phức tạp của thuật toán là O(n). Phải chạy từ đầu đến cuối, sẽ tốn thời gian đối với trường hợp dữ liệu đầu vào lớn.\n",
        "\n",
        "\n",
        "\n"
      ]
    },
    {
      "cell_type": "code",
      "metadata": {
        "colab": {
          "base_uri": "https://localhost:8080/"
        },
        "id": "Ngd06pwC1WHA",
        "outputId": "92cf58b0-733b-44fa-883a-de1c5dd72736"
      },
      "source": [
        "a, k, b, m, n = [int(x) for x in input().split()]\n",
        "count = 1\n",
        "while (n > 0):\n",
        "    n = (n - a) if count%k!=0 else n \n",
        "    n = (n - b) if count%m!=0 else n\n",
        "    count = count + 1 \n",
        "print(count-1)"
      ],
      "execution_count": 10,
      "outputs": [
        {
          "output_type": "stream",
          "text": [
            "3 5 5 4 30\n",
            "5\n"
          ],
          "name": "stdout"
        }
      ]
    },
    {
      "cell_type": "markdown",
      "metadata": {
        "id": "Z7KIpYXV5WTb"
      },
      "source": [
        "\n",
        "\n",
        "> # 4.2 Sử dụng Brute Force cải tiến:\n",
        "\n",
        "Ước lượng số ngày bằng công thức toán học sau đó sử dụng brute force để tìm ra số ngày chính xác\n",
        "\n",
        "\n",
        "\n"
      ]
    },
    {
      "cell_type": "code",
      "metadata": {
        "colab": {
          "base_uri": "https://localhost:8080/"
        },
        "id": "LOnanuMl5gdk",
        "outputId": "19ba9b70-024e-489b-98b6-242d7d714b02"
      },
      "source": [
        "a, k, b, m, n = [int(x) for x in input().split()]\n",
        "\n",
        "def Tinhtoan3(a, k, b, m ,n):\n",
        "    day = n//(a+b)\n",
        "    while 1:\n",
        "        n_k = day//k\n",
        "        n_m = day//m\n",
        "        tree = day * (a+b) - n_k * a - n_m * b\n",
        "        lastday_tree = a + b\n",
        "        if (day%k==0):\n",
        "            lastday_tree -= a\n",
        "        if (day%m ==0):\n",
        "            lastday_tree -= b\n",
        "        \n",
        "        if (tree < n):\n",
        "            day += (n-tree)//(a+b) +1\n",
        "        elif (tree - n < lastday_tree):\n",
        "            return day\n",
        "        elif (tree - n >= lastday_tree):\n",
        "            return day-1\n",
        "\n",
        "print(Tinhtoan3(a, k, b, m ,n))"
      ],
      "execution_count": 8,
      "outputs": [
        {
          "output_type": "stream",
          "text": [
            "3 5 5 4 30\n",
            "5\n"
          ],
          "name": "stdout"
        }
      ]
    },
    {
      "cell_type": "markdown",
      "metadata": {
        "id": "_TYRtJOjPKBw"
      },
      "source": [
        "Độ phức tạp của thuật toán: O(nlogn)\n",
        "\n"
      ]
    }
  ]
}