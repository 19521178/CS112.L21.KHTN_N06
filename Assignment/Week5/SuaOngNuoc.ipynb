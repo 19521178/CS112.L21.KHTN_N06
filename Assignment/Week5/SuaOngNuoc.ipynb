{
  "nbformat": 4,
  "nbformat_minor": 0,
  "metadata": {
    "colab": {
      "name": "SuaOngNuoc.ipynb",
      "provenance": []
    },
    "kernelspec": {
      "name": "python3",
      "display_name": "Python 3"
    },
    "language_info": {
      "name": "python"
    }
  },
  "cells": [
    {
      "cell_type": "markdown",
      "metadata": {
        "id": "DKKZjY0gfdWD"
      },
      "source": [
        "# Hệ thống cấp nước\n",
        "Vùng đất diệu kỳ Wonderland có N hộ gia đình đã được trang bị một hệ thống cung cấp nước sạch đến từng ngôi nhà. Mỗi đường ống nối trực tiếp 2 nhà, nước chảy trong đường ống theo 2 chiều, có thể truyền qua nhiều trung gian trước khi đến một nhà nào đó. Trong hồ sơ lưu trữ, các ngôi nhà được ghi số từ 1 đến N.\n",
        "\n",
        "Một trận động đất đã gây nên sự cố nghiêm trọng làm cho cả vùng bị chia cắt thành nhiều khu vực rời nhau, không còn tiếp cận được với nguồn nước. Để khắc phục, những người có trách nhiệm đã khảo sát hiện trạng và ghi nhận được toàn vùng đất đang thảm họa vẫn còn M đường ống đang hoạt động tốt.\n",
        "\n",
        "Nhiệm vụ đặt ra là phải khôi phục hệ thống cấp nước bằng cách lắp thêm một số đường ống. Tuy nhiên, do hạn chế về thời gian và kinh phí nên đòi hỏi phương án khôi phục phải được thực hiện với ít đường ống được lắp thêm nhất. Câu hỏi đặt ra: cần lắp thêm ít nhất bao nhiêu đường ống để hệ thống cấp nước có thể đưa nước đến từng ngôi nhà. Câu hỏi phụ: có bao nhiêu phương án khác nhau đáp ứng yêu cầu; số phương án có thể khá lớn nên chỉ cần đưa ra số dư khi chia cho 10^9+7.\n",
        "\n",
        "Dữ liệu: Vào từ thiết bị nhập chuẩn:\n",
        "\n",
        "Dòng đầu tiên chứa 2 số nguyên N, M (1 ≤ N, M ≤ 10^5)\n",
        "Mỗi dòng trong M dòng tiếp theo chứa 2 số nguyên a, b (1 ≤ a, b ≤ N). cho biết vẫn còn đường ống nối nhà a với nhà b\n",
        "Kết quả: Đưa ra thiết bị xuất chuẩn số đường ống cần được lắp thêm và số phương án đáp ứng yêu cầu (theo mô đun 109+7) mỗi số trên một dòng.\n",
        "\n",
        "# 1. Decomposition\n",
        "# 2. Abstraction\n",
        "Cho một đồ thị có N đỉnh và M cạnh, tìm số cạnh ít nhất để tạo thành 1 đồ thị liên thông, và tìm số cách chọn.\n",
        "# 3. Pattern Recognition\n",
        "Bài toán kết nối đồ thị\n",
        "# 4. Algorithm Design\n"
      ]
    },
    {
      "cell_type": "code",
      "metadata": {
        "colab": {
          "base_uri": "https://localhost:8080/"
        },
        "id": "eef9rRb-bucL",
        "outputId": "d0ba022f-3be7-40ec-d58c-b9a4da98a74b"
      },
      "source": [
        "n, m = [int(x) for x in input().strip().split()]\n",
        "visited = set()\n",
        "single_point = n\n",
        "multi_point = 0\n",
        "from collections import defaultdict\n",
        "graph = defaultdict(list)\n",
        "for _ in range(m):\n",
        "    u, v = input().split()\n",
        "    graph[u].append(v)\n",
        "    graph[v].append(u)\n",
        "\n",
        "ans2 = 1\n",
        "mod = 10**9 +7\n",
        "for head, body in graph.items():\n",
        "    if head in visited:\n",
        "        continue\n",
        "    visited = visited | set(head)\n",
        "    to_visited = set(body) - visited\n",
        "    count = 1\n",
        "    while (len(to_visited)>0):\n",
        "        count += 1\n",
        "        node = to_visited.pop()\n",
        "        visited = visited | set(node)\n",
        "        to_visited = to_visited | set(graph[node]) - visited\n",
        "    # print(count)\n",
        "    if (count>1):\n",
        "        single_point -= (count)\n",
        "        multi_point += 1\n",
        "        ans2 = (ans2*count) % mod\n",
        "\n",
        "ans1 = single_point + multi_point - 1\n",
        "print(ans1)\n",
        "if (ans1 == 0):\n",
        "    print(0)\n",
        "else:\n",
        "    for _ in range(ans1 - 1):\n",
        "        ans2 = (ans2 * n) % mod\n",
        "    print(ans2)"
      ],
      "execution_count": 2,
      "outputs": [
        {
          "output_type": "stream",
          "text": [
            "4 2\n",
            "1 3\n",
            "2 2\n",
            "2\n",
            "8\n"
          ],
          "name": "stdout"
        }
      ]
    }
  ]
}