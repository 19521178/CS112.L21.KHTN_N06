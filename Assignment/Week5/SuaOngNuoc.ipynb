{
  "nbformat": 4,
  "nbformat_minor": 0,
  "metadata": {
    "colab": {
      "name": "SuaOngNuoc.ipynb",
      "provenance": [],
      "collapsed_sections": []
    },
    "kernelspec": {
      "name": "python3",
      "display_name": "Python 3"
    },
    "language_info": {
      "name": "python"
    }
  },
  "cells": [
    {
      "cell_type": "markdown",
      "metadata": {
        "id": "YqY-zqh04yYo"
      },
      "source": [
        "# 1. Đề bài\n",
        "Vùng đất diệu kỳ Wonderland có $N$ hộ gia đình đã được trang bị một hệ thống cung cấp nước sạch đến từng ngôi nhà. Mỗi đường ống nối trực tiếp 2 nhà, nước chảy trong đường ống theo 2 chiều, có thể truyền qua nhiều trung gian trước khi đến một nhà nào đó. Trong hồ sơ lưu trữ, các ngôi nhà được ghi số từ $1$ đến $N$.\n",
        "\n",
        "Một trận động đất đã gây nên sự cố nghiêm trọng làm cho cả vùng bị chia cắt thành nhiều khu vực rời nhau, không còn tiếp cận được với nguồn nước. Để khắc phục, những người có trách nhiệm đã khảo sát hiện trạng và ghi nhận được toàn vùng đất đang thảm họa vẫn còn $M$ đường ống đang hoạt động tốt.\n",
        "\n",
        "Nhiệm vụ đặt ra là phải khôi phục hệ thống cấp nước bằng cách lắp thêm một số đường ống. Tuy nhiên, do hạn chế về thời gian và kinh phí nên đòi hỏi phương án khôi phục phải được thực hiện với ít đường ống được lắp thêm nhất. Câu hỏi đặt ra: cần lắp thêm ít nhất bao nhiêu đường ống để hệ thống cấp nước có thể đưa nước đến từng ngôi nhà. Câu hỏi phụ: có bao nhiêu phương án khác nhau đáp ứng yêu cầu; số phương án có thể khá lớn nên chỉ cần đưa ra số dư khi chia cho $10^9+7$.\n",
        "\n",
        "Dữ liệu: Vào từ thiết bị nhập chuẩn:\n",
        "\n",
        "Dòng đầu tiên chứa 2 số nguyên $N, M$ $(1 ≤ N, M ≤ 10^5)$\n",
        "\n",
        "Mỗi dòng trong M dòng tiếp theo chứa 2 số nguyên $a, b$ $(1 ≤ a,  b ≤ N)$ cho biết vẫn còn đường ống nối nhà $a$ với nhà $b$\n",
        "\n",
        "Kết quả: Đưa ra thiết bị xuất chuẩn số đường ống cần được lắp thêm và số phương án đáp ứng yêu cầu (theo mô đun $10^9+7$) mỗi số trên một dòng.\n",
        "\n",
        "* Ví dụ: \n",
        "\n",
        "| Input  | Output |\n",
        "| --- | --- |\n",
        "|3 1| 1|\n",
        "|1 2| 2|"
      ]
    },
    {
      "cell_type": "markdown",
      "metadata": {
        "id": "8L8ViXGq4yYp"
      },
      "source": [
        "#2. Abstraction\n",
        "\n",
        "Nhập $n$, $m$ và $m$ cạnh nối 2 điểm xác định với nhau. Tìm số cạnh để nối các thành phần liên thông và số cách nối.\n",
        "\n"
      ]
    },
    {
      "cell_type": "markdown",
      "metadata": {
        "id": "yeruP80d4yYp"
      },
      "source": [
        "# 3. Pattern Recognition\n",
        "\n",
        "* Dựa vào m cạnh, ta tìm được từng thành phần liên thông nhờ việc dùng Depth-First-Search trên mỗi điểm\n",
        "\n",
        "* Từ $k$ thành phần liên thông, xác định được số cạnh nối các thành phần bằng $k-1$\n",
        "\n",
        "* Ta dựa vào công thức Cayley: $n^{k-2}$ để xác định số cách nối các thành phần khi chưa quan tâm số điểm. Mà mỗi thành phần có $s_{i}$ điểm, nên kết quả số cách nối bằng $s_i * n^{k-2}$ với $i \\in [1,k]$\n"
      ]
    },
    {
      "cell_type": "markdown",
      "metadata": {
        "id": "2-FFthja4yYq"
      },
      "source": [
        "#  4. Algorithm Design\n"
      ]
    },
    {
      "cell_type": "markdown",
      "metadata": {
        "id": "JZf8ZwNUjBRK"
      },
      "source": [
        "* Python Code:"
      ]
    },
    {
      "cell_type": "code",
      "metadata": {
        "id": "SV--8s4BfFlX"
      },
      "source": [
        "import collections\n",
        "import io, os\n",
        "input = io.BytesIO(os.read(0, os.fstat(0).st_size)).readline\n",
        "n, m = [int(x) for x in input().split()]\n",
        "graph = dict()\n",
        "for _ in range(m):\n",
        "    u, v = input().split()\n",
        "    if (int(u)<1):\n",
        "        continue\n",
        "    if (int(v)<1): \n",
        "        continue\n",
        "    if (int(u)>n):\n",
        "        continue\n",
        "    if (int(v)>n):\n",
        "        continue\n",
        "    if (u in graph):\n",
        "        graph[u].append(v)\n",
        "    else:\n",
        "        graph[u]= [v]\n",
        "    if (v in graph):\n",
        "        graph[v].append(u)\n",
        "    else:\n",
        "        graph[v]= [u]\n",
        "\n",
        "def DFS(value, visited, graph):\n",
        "    to_visited = set(graph[value])\n",
        "    visited.add(value)\n",
        "    count = 1\n",
        "    while (len(to_visited)>0):\n",
        "        node = to_visited.pop()\n",
        "        if node not in visited:\n",
        "            visited.add(node)\n",
        "            count+= 1\n",
        "            if (node in graph):\n",
        "                to_visited.update(graph[node])\n",
        "    return count\n",
        "visited = set()\n",
        "single_point = n\n",
        "multi_point = 0\n",
        "ans2 = 1\n",
        "mod = 1000000007\n",
        "for value in graph:\n",
        "    if value not in visited:\n",
        "        points = DFS(value, visited, graph)\n",
        "        if points>1:\n",
        "            single_point -= points\n",
        "            multi_point += 1\n",
        "            ans2 = (ans2 * points) % mod\n",
        "ans1 = single_point + multi_point - 1\n",
        "print(ans1)\n",
        "if (ans1 == 0):\n",
        "    print(0)\n",
        "else:\n",
        "    for _ in range(ans1 - 1):\n",
        "        ans2 = (ans2 * n) % mod\n",
        "    print(ans2)"
      ],
      "execution_count": null,
      "outputs": []
    },
    {
      "cell_type": "markdown",
      "metadata": {
        "id": "6hdAVQttjEHC"
      },
      "source": [
        "* Độ phức tạp: $O(n+m)$"
      ]
    }
  ]
}
