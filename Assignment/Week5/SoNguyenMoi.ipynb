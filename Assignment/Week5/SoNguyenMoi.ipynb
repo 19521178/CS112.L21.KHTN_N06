{
  "nbformat": 4,
  "nbformat_minor": 0,
  "metadata": {
    "colab": {
      "name": "SoNguyenMoi.ipynb",
      "provenance": [],
      "collapsed_sections": []
    },
    "kernelspec": {
      "name": "python3",
      "display_name": "Python 3"
    },
    "language_info": {
      "name": "python"
    }
  },
  "cells": [
    {
      "cell_type": "markdown",
      "metadata": {
        "id": "Ewy_emBuWcaE"
      },
      "source": [
        "#1. Đề bài\n",
        "\n",
        "Cho số nguyên dương $n$ có không quá $100$ chữ số. Hãy xác định số nguyên lớn nhất $m$ chia hết cho $3$ và khác $n$ ở đúng một chữ số.\n",
        "\n",
        "Ví dụ, $n = 123$ thì $m$ sẽ là $723$.\n",
        "\n",
        "Dữ liệu: Vào từ thiết bị nhập chuẩn gồm một dòng chứa số nguyên $n$ có không quá $100$ chữ số và không chứa các số $0$ không có nghĩa.\n",
        "\n",
        "Kết quả: Đưa ra thiết bị xuất chuẩn số nguyên $m$ tìm được.\n",
        "\n",
        "* Ví dụ: \n",
        "\n",
        "| Input  | Output |\n",
        "| --- | --- |\n",
        "|123| 723|"
      ]
    },
    {
      "cell_type": "markdown",
      "metadata": {
        "id": "sokBcP36XvBN"
      },
      "source": [
        "# 2. Abstraction\n",
        "Cho số nguyên $n$ không quá 100 chữ số, thay 1 chữ số để đạt được số nguyên lớn nhất có thể và chia hết cho 3"
      ]
    },
    {
      "cell_type": "markdown",
      "metadata": {
        "id": "2LgPtpbNYnCe"
      },
      "source": [
        "#3. Pattern Recognition\n",
        "* Dạng toán: \n",
        "    * Vét cạn\n",
        "* Đặc điểm nhận dạng:\n",
        "    * Khối lượng đầu vào nhỏ, dưới 100 chữ số\n",
        "    * Vì chỉ cần thay 1 chữ số nên độ phức tạp có thể là \n",
        "$O(1)$ nếu xài vét cạn"
      ]
    },
    {
      "cell_type": "markdown",
      "metadata": {
        "id": "IWyBGL5xbu10"
      },
      "source": [
        "# 4. Algorithm Design"
      ]
    },
    {
      "cell_type": "markdown",
      "metadata": {
        "id": "0kE26PHHSTaw"
      },
      "source": [
        "##2. Vét cạn\n",
        "Đặt 1 biến $mod$ là phần còn thiếu để $n$ chia hết cho 3.\n",
        "Cho $str[i]$ chạy từ chữ số đầu đến chữ số cuối, nếu $str[i]$ có khả năng cộng với $mod$ thì thay đổi $str[i] = str[i] + mod$ và kết thúc vòng lặp.\n",
        "\n",
        "Nếu không thì chạy đến chữ số tiếp theo.\n",
        "\n",
        "Sau khi chạy hết vòng lặp mà vẫn không có chữ số nào thỏa thì lấy chữ số cuối trừ đi phần dư"
      ]
    },
    {
      "cell_type": "markdown",
      "metadata": {
        "id": "9L-qYMXMeoTk"
      },
      "source": [
        "* Python Code:"
      ]
    },
    {
      "cell_type": "code",
      "metadata": {
        "id": "gCBw9O_DfTc2"
      },
      "source": [
        "Str_number = input().strip()\n",
        "def Convert_Max(Str_number):\n",
        "    length = len(Str_number)\n",
        "    Mod = 3 - int(Str_number)%3\n",
        "    for i in range(length):\n",
        "        number = int(Str_number[i])\n",
        "        tmp = number + Mod\n",
        "        if (tmp>9):\n",
        "            continue\n",
        "        while(tmp<7):\n",
        "            tmp = tmp + 3\n",
        "        Str_number = Str_number[:i] + str(tmp) + Str_number[i+1:]\n",
        "        return Str_number\n",
        "    Str_number = Str_number[:length-1] + str(int(Str_number[-1])-(3-Mod%3))\n",
        "    return Str_number\n",
        "print(Convert_Max(Str_number))\n"
      ],
      "execution_count": null,
      "outputs": []
    },
    {
      "cell_type": "markdown",
      "metadata": {
        "id": "a5WIAKFzer_7"
      },
      "source": [
        "* Độ phức tạp: $O(n)$ "
      ]
    }
  ]
}
