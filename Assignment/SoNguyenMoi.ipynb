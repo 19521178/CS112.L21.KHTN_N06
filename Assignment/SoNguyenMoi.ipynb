{
  "nbformat": 4,
  "nbformat_minor": 0,
  "metadata": {
    "colab": {
      "name": "SoNguyenMoi.ipynb",
      "provenance": [],
      "toc_visible": true
    },
    "kernelspec": {
      "name": "python3",
      "display_name": "Python 3"
    },
    "language_info": {
      "name": "python"
    }
  },
  "cells": [
    {
      "cell_type": "markdown",
      "metadata": {
        "id": "L7XvKvEp8RiB"
      },
      "source": [
        "# Số nguyên mới\n",
        "Cho số nguyên dương n có không quá 100 chữ số. Hãy xác định số nguyên lớn nhất m chia hết cho 3 và khác n ở đúng một chữ số.\n",
        "\n",
        "Ví dụ, n = 123 thì m sẽ là 723.\n",
        "\n",
        "Dữ liệu: Vào từ thiết bị nhập chuẩn gồm một dòng chứa số nguyên n có không quá 100 chữ số và không chứa các số 0 không có nghĩa.\n",
        "\n",
        "Kết quả: Đưa ra thiết bị xuất chuẩn số nguyên m tìm được.\n",
        "\n",
        "# 1.Decomposition\n",
        "\n",
        "# 2.Abstraction\n",
        "Cho số nguyên dương n có không quá 100 chữ số. Hãy xác định số nguyên lớn nhất m chia hết cho 3 và khác n ở đúng một chữ số.\n",
        "\n",
        "# 3.Pattern Recognition\n",
        "Bài toán vòng lặp cho đến khi thỏa mãn điều kiện\n",
        "\n",
        "# 4.Algorithm Design\n",
        "Tìm số Mod =3 - Str_number%3\n",
        "\n",
        "Sử dụng Brute Force, cộng Mod với lần lượt từng số từ trái qua phải. Nếu đã thỏa mãn thì dừng, nếu chưa thỏa mãn thì trừ 3-Mod%3 với từng số từ phải qua trái. Nếu thỏa mãn thì dừng"
      ]
    },
    {
      "cell_type": "code",
      "metadata": {
        "colab": {
          "base_uri": "https://localhost:8080/"
        },
        "id": "LeEqVKwRR9BI",
        "outputId": "4e35f470-e906-44b6-91ae-922d310c032b"
      },
      "source": [
        "Str_number = input().strip()\n",
        "\n",
        "def Convert_Max(Str_number):\n",
        "    length = len(Str_number)\n",
        "    Mod = 3 - int(Str_number)%3\n",
        "    for i in range(length):\n",
        "        number = int(Str_number[i])\n",
        "        tmp = number + Mod\n",
        "        if (tmp>9):\n",
        "            continue\n",
        "        while(tmp<7):\n",
        "            tmp = tmp + 3\n",
        "        Str_number = Str_number[:i] + str(tmp) + Str_number[i+1:]\n",
        "        return Str_number\n",
        "    Str_number = Str_number[:length-1] + str(int(Str_number[-1])-(3-Mod%3))\n",
        "    return Str_number\n",
        "\n",
        "print(Convert_Max(Str_number))"
      ],
      "execution_count": 1,
      "outputs": [
        {
          "output_type": "stream",
          "text": [
            "999\n",
            "996\n"
          ],
          "name": "stdout"
        }
      ]
    },
    {
      "cell_type": "code",
      "metadata": {
        "id": "bhXd27pyQ4gH"
      },
      "source": [
        "Độ phức tạp của thuật toán: O(n)"
      ],
      "execution_count": null,
      "outputs": []
    }
  ]
}